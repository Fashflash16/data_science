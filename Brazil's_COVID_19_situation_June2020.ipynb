{
  "nbformat": 4,
  "nbformat_minor": 0,
  "metadata": {
    "colab": {
      "name": "Brazil's_COVID-19_situation_June2020.ipynb",
      "provenance": [],
      "collapsed_sections": [],
      "authorship_tag": "ABX9TyPtKFtLW9/83Q++HLrPmNW5",
      "include_colab_link": true
    },
    "kernelspec": {
      "name": "python3",
      "display_name": "Python 3"
    }
  },
  "cells": [
    {
      "cell_type": "markdown",
      "metadata": {
        "id": "view-in-github",
        "colab_type": "text"
      },
      "source": [
        "<a href=\"https://colab.research.google.com/github/rmpbastos/data_science/blob/master/Brazil's_COVID_19_situation_June2020.ipynb\" target=\"_parent\"><img src=\"https://colab.research.google.com/assets/colab-badge.svg\" alt=\"Open In Colab\"/></a>"
      ]
    },
    {
      "cell_type": "markdown",
      "metadata": {
        "id": "FUDBN236jnDs",
        "colab_type": "text"
      },
      "source": [
        "# A case study of Brazil's COVID-19 situation\n",
        "\n",
        "#### Statistical analysis of the novel coronavirus in Brazil with basic concepts of Pandas, Matplotlib and Seaborn\n",
        "\n",
        "COVID-19 (coronavirus disease 2019) is an infectious disease caused by a new strain of coronavirus, linked to the same family of viruses as Severe Acute Respiratory Syndrome (SARS) and some types of common cold.\n",
        "\n",
        "According to the [World Health Organization](https://www.who.int/), common symptoms include fever, fatigue, cough and shortness of breath. While the majority of cases result in mild symptoms, in more severe cases the infection can cause pneumonia or breathing difficulties, and, more rarely, the disease can be fatal.\n",
        "\n",
        "<center><img alt=\"Coronavirus\" width=\"50%\" src=\"https://github.com/rmpbastos/data_science/blob/master/img/cdc-k0KRNtqcjfw-unsplash.jpg?raw=true\"></center>\n",
        "\n",
        "While a lot is still unknown about the virus that causes COVID-19 and no vaccines nor specific antiviral treatments are yet available, one of the best ways to [avoid misinformation](https://www.who.int/emergencies/diseases/novel-coronavirus-2019/advice-for-public/myth-busters) and stay up-to-date with news and protective measures is referring to the [World Health Organization website](https://www.who.int/).\n",
        "\n",
        "To raise awareness about COVID-19, with a focus on Brazil, this study will examine the evolution of the disease as of June 23, 2020, using concepts of Python tools for data analysis and visualization, such as Pandas, NumPy, Matplotlib and Seaborn."
      ]
    },
    {
      "cell_type": "markdown",
      "metadata": {
        "id": "jpKI0IzWsth8",
        "colab_type": "text"
      },
      "source": [
        "## About the Data\n",
        "\n",
        "Gathering data about a novel disease can be problematic as information may conflict from one source to another. In Brazil's case, for instance, data are being disclosed by federal and state governments, hospitals and media agencies, among other unofficial means.\n",
        "\n",
        "To keep the study as reliable as possible, the dataset utilized here is a collection of the COVID-19 data maintained by [Our World in Data](https://ourworldindata.org/coronavirus), a scientific online publication whose research team is based at the University of Oxford and focuses on large global problems.\n",
        "\n",
        "The complete dataset can be downloaded [here](https://github.com/owid/covid-19-data/tree/master/public/data). It is updated daily and includes data on confirmed cases, deaths, and testing per country, as well as other features of potential interest.\n",
        "\n",
        "As the data is still growing and transforming on a daily basis, bear in mind that this study is considering the numbers on June 23, 2020.\n",
        "\n",
        "### Variable library\n",
        "\n",
        "The main variables utilized in the study are listed below. A [full codebook](https://github.com/owid/covid-19-data/blob/master/public/data/owid-covid-data-codebook.md) is available with description and source for each variable in the dataset.\n",
        "\n",
        "* `location` - Geographical location\n",
        "* `date` - Date of observation\n",
        "* `total_cases` - Total confirmed cases of COVID-19\n",
        "* `new_cases` - New confirmed cases of COVID-19\n",
        "* `total_deaths` - Total deaths attributed to COVID-19\n",
        "* `new_deaths` - New deaths attributed to COVID-19\n",
        "* `total_cases_per_million` - Total confirmed cases of COVID-19 per 1,000,000 people\n",
        "* `new_cases_per_million` - New confirmed cases of COVID-19 per 1,000,000 people\n",
        "* `total_deaths_per_million` - Total deaths attributed to COVID-19 per 1,000,000 people\n",
        "* `new_deaths_per_million` - New deaths attributed to COVID-19 per 1,000,000 people\n",
        "* `population` - Population in 2020\n",
        "* `gdp_per_capita` - Gross domestic product at purchasing power parity (constant 2011 international dollars), most recent year available\n",
        "\n",
        "### Importing the COVID-19 dataset\n",
        "The first step of the process is importing the `csv` file containing our data into a Pandas DataFrame."
      ]
    },
    {
      "cell_type": "code",
      "metadata": {
        "id": "hVe_Kel_Er62",
        "colab_type": "code",
        "colab": {}
      },
      "source": [
        "!pip install pywaffle -q"
      ],
      "execution_count": 59,
      "outputs": []
    },
    {
      "cell_type": "code",
      "metadata": {
        "id": "Y4x39R79hcon",
        "colab_type": "code",
        "colab": {}
      },
      "source": [
        "# import libraries\n",
        "import pandas as pd\n",
        "import numpy as np\n",
        "import matplotlib.pyplot as plt\n",
        "import seaborn as sns\n",
        "from pywaffle import Waffle\n",
        "\n",
        "# import dataset and create a data frame\n",
        "df = pd.read_csv('https://covid.ourworldindata.org/data/owid-covid-data.csv')"
      ],
      "execution_count": 60,
      "outputs": []
    },
    {
      "cell_type": "markdown",
      "metadata": {
        "id": "hXqc6hfc_1j5",
        "colab_type": "text"
      },
      "source": [
        "## Exploratory Analysis\n",
        "\n",
        "Before diving deep into our analysis let's take some time to know our dataset. This preliminary analysis is important to start understanding our data. In fact, some insights might start to pop up on this first contact.\n",
        "\n",
        "First, let's take a glance at our set."
      ]
    },
    {
      "cell_type": "code",
      "metadata": {
        "id": "-pOdYlZl_jdH",
        "colab_type": "code",
        "colab": {
          "base_uri": "https://localhost:8080/",
          "height": 309
        },
        "outputId": "a344e17e-6ca8-4532-8753-dfba5f0ee92e"
      },
      "source": [
        "df.head()"
      ],
      "execution_count": 61,
      "outputs": [
        {
          "output_type": "execute_result",
          "data": {
            "text/html": [
              "<div>\n",
              "<style scoped>\n",
              "    .dataframe tbody tr th:only-of-type {\n",
              "        vertical-align: middle;\n",
              "    }\n",
              "\n",
              "    .dataframe tbody tr th {\n",
              "        vertical-align: top;\n",
              "    }\n",
              "\n",
              "    .dataframe thead th {\n",
              "        text-align: right;\n",
              "    }\n",
              "</style>\n",
              "<table border=\"1\" class=\"dataframe\">\n",
              "  <thead>\n",
              "    <tr style=\"text-align: right;\">\n",
              "      <th></th>\n",
              "      <th>iso_code</th>\n",
              "      <th>continent</th>\n",
              "      <th>location</th>\n",
              "      <th>date</th>\n",
              "      <th>total_cases</th>\n",
              "      <th>new_cases</th>\n",
              "      <th>total_deaths</th>\n",
              "      <th>new_deaths</th>\n",
              "      <th>total_cases_per_million</th>\n",
              "      <th>new_cases_per_million</th>\n",
              "      <th>total_deaths_per_million</th>\n",
              "      <th>new_deaths_per_million</th>\n",
              "      <th>total_tests</th>\n",
              "      <th>new_tests</th>\n",
              "      <th>total_tests_per_thousand</th>\n",
              "      <th>new_tests_per_thousand</th>\n",
              "      <th>new_tests_smoothed</th>\n",
              "      <th>new_tests_smoothed_per_thousand</th>\n",
              "      <th>tests_units</th>\n",
              "      <th>stringency_index</th>\n",
              "      <th>population</th>\n",
              "      <th>population_density</th>\n",
              "      <th>median_age</th>\n",
              "      <th>aged_65_older</th>\n",
              "      <th>aged_70_older</th>\n",
              "      <th>gdp_per_capita</th>\n",
              "      <th>extreme_poverty</th>\n",
              "      <th>cvd_death_rate</th>\n",
              "      <th>diabetes_prevalence</th>\n",
              "      <th>female_smokers</th>\n",
              "      <th>male_smokers</th>\n",
              "      <th>handwashing_facilities</th>\n",
              "      <th>hospital_beds_per_thousand</th>\n",
              "      <th>life_expectancy</th>\n",
              "    </tr>\n",
              "  </thead>\n",
              "  <tbody>\n",
              "    <tr>\n",
              "      <th>0</th>\n",
              "      <td>AFG</td>\n",
              "      <td>Asia</td>\n",
              "      <td>Afghanistan</td>\n",
              "      <td>2019-12-31</td>\n",
              "      <td>0.0</td>\n",
              "      <td>0.0</td>\n",
              "      <td>0.0</td>\n",
              "      <td>0.0</td>\n",
              "      <td>0.0</td>\n",
              "      <td>0.0</td>\n",
              "      <td>0.0</td>\n",
              "      <td>0.0</td>\n",
              "      <td>NaN</td>\n",
              "      <td>NaN</td>\n",
              "      <td>NaN</td>\n",
              "      <td>NaN</td>\n",
              "      <td>NaN</td>\n",
              "      <td>NaN</td>\n",
              "      <td>NaN</td>\n",
              "      <td>NaN</td>\n",
              "      <td>38928341.0</td>\n",
              "      <td>54.422</td>\n",
              "      <td>18.6</td>\n",
              "      <td>2.581</td>\n",
              "      <td>1.337</td>\n",
              "      <td>1803.987</td>\n",
              "      <td>NaN</td>\n",
              "      <td>597.029</td>\n",
              "      <td>9.59</td>\n",
              "      <td>NaN</td>\n",
              "      <td>NaN</td>\n",
              "      <td>37.746</td>\n",
              "      <td>0.5</td>\n",
              "      <td>64.83</td>\n",
              "    </tr>\n",
              "    <tr>\n",
              "      <th>1</th>\n",
              "      <td>AFG</td>\n",
              "      <td>Asia</td>\n",
              "      <td>Afghanistan</td>\n",
              "      <td>2020-01-01</td>\n",
              "      <td>0.0</td>\n",
              "      <td>0.0</td>\n",
              "      <td>0.0</td>\n",
              "      <td>0.0</td>\n",
              "      <td>0.0</td>\n",
              "      <td>0.0</td>\n",
              "      <td>0.0</td>\n",
              "      <td>0.0</td>\n",
              "      <td>NaN</td>\n",
              "      <td>NaN</td>\n",
              "      <td>NaN</td>\n",
              "      <td>NaN</td>\n",
              "      <td>NaN</td>\n",
              "      <td>NaN</td>\n",
              "      <td>NaN</td>\n",
              "      <td>0.0</td>\n",
              "      <td>38928341.0</td>\n",
              "      <td>54.422</td>\n",
              "      <td>18.6</td>\n",
              "      <td>2.581</td>\n",
              "      <td>1.337</td>\n",
              "      <td>1803.987</td>\n",
              "      <td>NaN</td>\n",
              "      <td>597.029</td>\n",
              "      <td>9.59</td>\n",
              "      <td>NaN</td>\n",
              "      <td>NaN</td>\n",
              "      <td>37.746</td>\n",
              "      <td>0.5</td>\n",
              "      <td>64.83</td>\n",
              "    </tr>\n",
              "    <tr>\n",
              "      <th>2</th>\n",
              "      <td>AFG</td>\n",
              "      <td>Asia</td>\n",
              "      <td>Afghanistan</td>\n",
              "      <td>2020-01-02</td>\n",
              "      <td>0.0</td>\n",
              "      <td>0.0</td>\n",
              "      <td>0.0</td>\n",
              "      <td>0.0</td>\n",
              "      <td>0.0</td>\n",
              "      <td>0.0</td>\n",
              "      <td>0.0</td>\n",
              "      <td>0.0</td>\n",
              "      <td>NaN</td>\n",
              "      <td>NaN</td>\n",
              "      <td>NaN</td>\n",
              "      <td>NaN</td>\n",
              "      <td>NaN</td>\n",
              "      <td>NaN</td>\n",
              "      <td>NaN</td>\n",
              "      <td>0.0</td>\n",
              "      <td>38928341.0</td>\n",
              "      <td>54.422</td>\n",
              "      <td>18.6</td>\n",
              "      <td>2.581</td>\n",
              "      <td>1.337</td>\n",
              "      <td>1803.987</td>\n",
              "      <td>NaN</td>\n",
              "      <td>597.029</td>\n",
              "      <td>9.59</td>\n",
              "      <td>NaN</td>\n",
              "      <td>NaN</td>\n",
              "      <td>37.746</td>\n",
              "      <td>0.5</td>\n",
              "      <td>64.83</td>\n",
              "    </tr>\n",
              "    <tr>\n",
              "      <th>3</th>\n",
              "      <td>AFG</td>\n",
              "      <td>Asia</td>\n",
              "      <td>Afghanistan</td>\n",
              "      <td>2020-01-03</td>\n",
              "      <td>0.0</td>\n",
              "      <td>0.0</td>\n",
              "      <td>0.0</td>\n",
              "      <td>0.0</td>\n",
              "      <td>0.0</td>\n",
              "      <td>0.0</td>\n",
              "      <td>0.0</td>\n",
              "      <td>0.0</td>\n",
              "      <td>NaN</td>\n",
              "      <td>NaN</td>\n",
              "      <td>NaN</td>\n",
              "      <td>NaN</td>\n",
              "      <td>NaN</td>\n",
              "      <td>NaN</td>\n",
              "      <td>NaN</td>\n",
              "      <td>0.0</td>\n",
              "      <td>38928341.0</td>\n",
              "      <td>54.422</td>\n",
              "      <td>18.6</td>\n",
              "      <td>2.581</td>\n",
              "      <td>1.337</td>\n",
              "      <td>1803.987</td>\n",
              "      <td>NaN</td>\n",
              "      <td>597.029</td>\n",
              "      <td>9.59</td>\n",
              "      <td>NaN</td>\n",
              "      <td>NaN</td>\n",
              "      <td>37.746</td>\n",
              "      <td>0.5</td>\n",
              "      <td>64.83</td>\n",
              "    </tr>\n",
              "    <tr>\n",
              "      <th>4</th>\n",
              "      <td>AFG</td>\n",
              "      <td>Asia</td>\n",
              "      <td>Afghanistan</td>\n",
              "      <td>2020-01-04</td>\n",
              "      <td>0.0</td>\n",
              "      <td>0.0</td>\n",
              "      <td>0.0</td>\n",
              "      <td>0.0</td>\n",
              "      <td>0.0</td>\n",
              "      <td>0.0</td>\n",
              "      <td>0.0</td>\n",
              "      <td>0.0</td>\n",
              "      <td>NaN</td>\n",
              "      <td>NaN</td>\n",
              "      <td>NaN</td>\n",
              "      <td>NaN</td>\n",
              "      <td>NaN</td>\n",
              "      <td>NaN</td>\n",
              "      <td>NaN</td>\n",
              "      <td>0.0</td>\n",
              "      <td>38928341.0</td>\n",
              "      <td>54.422</td>\n",
              "      <td>18.6</td>\n",
              "      <td>2.581</td>\n",
              "      <td>1.337</td>\n",
              "      <td>1803.987</td>\n",
              "      <td>NaN</td>\n",
              "      <td>597.029</td>\n",
              "      <td>9.59</td>\n",
              "      <td>NaN</td>\n",
              "      <td>NaN</td>\n",
              "      <td>37.746</td>\n",
              "      <td>0.5</td>\n",
              "      <td>64.83</td>\n",
              "    </tr>\n",
              "  </tbody>\n",
              "</table>\n",
              "</div>"
            ],
            "text/plain": [
              "  iso_code continent  ... hospital_beds_per_thousand life_expectancy\n",
              "0      AFG      Asia  ...                        0.5           64.83\n",
              "1      AFG      Asia  ...                        0.5           64.83\n",
              "2      AFG      Asia  ...                        0.5           64.83\n",
              "3      AFG      Asia  ...                        0.5           64.83\n",
              "4      AFG      Asia  ...                        0.5           64.83\n",
              "\n",
              "[5 rows x 34 columns]"
            ]
          },
          "metadata": {
            "tags": []
          },
          "execution_count": 61
        }
      ]
    },
    {
      "cell_type": "markdown",
      "metadata": {
        "id": "z9jCAriEB4kS",
        "colab_type": "text"
      },
      "source": [
        "As we can see, each row represents a location and date.\n",
        "\n",
        "\n",
        "Now, let's examine the size of the data frame."
      ]
    },
    {
      "cell_type": "code",
      "metadata": {
        "id": "1YNuBjPO_sTb",
        "colab_type": "code",
        "colab": {
          "base_uri": "https://localhost:8080/",
          "height": 34
        },
        "outputId": "76149625-a917-4ea9-d7cf-5c15ac664aee"
      },
      "source": [
        "num_rows = df.shape[0]\n",
        "num_cols = df.shape[1]\n",
        "print('The DataFrame has {} rows and {} columns'.format(num_rows, num_cols))"
      ],
      "execution_count": 62,
      "outputs": [
        {
          "output_type": "stream",
          "text": [
            "The DataFrame has 25714 rows and 34 columns\n"
          ],
          "name": "stdout"
        }
      ]
    },
    {
      "cell_type": "markdown",
      "metadata": {
        "id": "udYW6op3C1Qb",
        "colab_type": "text"
      },
      "source": [
        "Let's extract the columns' names."
      ]
    },
    {
      "cell_type": "code",
      "metadata": {
        "id": "QUQbgfiACfMW",
        "colab_type": "code",
        "colab": {
          "base_uri": "https://localhost:8080/",
          "height": 221
        },
        "outputId": "cf80ffd3-2013-42da-e226-7cf75ba824ca"
      },
      "source": [
        "df.columns"
      ],
      "execution_count": 63,
      "outputs": [
        {
          "output_type": "execute_result",
          "data": {
            "text/plain": [
              "Index(['iso_code', 'continent', 'location', 'date', 'total_cases', 'new_cases',\n",
              "       'total_deaths', 'new_deaths', 'total_cases_per_million',\n",
              "       'new_cases_per_million', 'total_deaths_per_million',\n",
              "       'new_deaths_per_million', 'total_tests', 'new_tests',\n",
              "       'total_tests_per_thousand', 'new_tests_per_thousand',\n",
              "       'new_tests_smoothed', 'new_tests_smoothed_per_thousand', 'tests_units',\n",
              "       'stringency_index', 'population', 'population_density', 'median_age',\n",
              "       'aged_65_older', 'aged_70_older', 'gdp_per_capita', 'extreme_poverty',\n",
              "       'cvd_death_rate', 'diabetes_prevalence', 'female_smokers',\n",
              "       'male_smokers', 'handwashing_facilities', 'hospital_beds_per_thousand',\n",
              "       'life_expectancy'],\n",
              "      dtype='object')"
            ]
          },
          "metadata": {
            "tags": []
          },
          "execution_count": 63
        }
      ]
    },
    {
      "cell_type": "markdown",
      "metadata": {
        "id": "NwOcrIYWDfEV",
        "colab_type": "text"
      },
      "source": [
        "Before moving forward, it is crucial to know our variables' types."
      ]
    },
    {
      "cell_type": "code",
      "metadata": {
        "id": "NgSwq13wDbA0",
        "colab_type": "code",
        "colab": {
          "base_uri": "https://localhost:8080/",
          "height": 612
        },
        "outputId": "bcbd03f0-2d01-4ce4-cf70-1f69cd56eaf5"
      },
      "source": [
        "df.dtypes"
      ],
      "execution_count": 64,
      "outputs": [
        {
          "output_type": "execute_result",
          "data": {
            "text/plain": [
              "iso_code                            object\n",
              "continent                           object\n",
              "location                            object\n",
              "date                                object\n",
              "total_cases                        float64\n",
              "new_cases                          float64\n",
              "total_deaths                       float64\n",
              "new_deaths                         float64\n",
              "total_cases_per_million            float64\n",
              "new_cases_per_million              float64\n",
              "total_deaths_per_million           float64\n",
              "new_deaths_per_million             float64\n",
              "total_tests                        float64\n",
              "new_tests                          float64\n",
              "total_tests_per_thousand           float64\n",
              "new_tests_per_thousand             float64\n",
              "new_tests_smoothed                 float64\n",
              "new_tests_smoothed_per_thousand    float64\n",
              "tests_units                         object\n",
              "stringency_index                   float64\n",
              "population                         float64\n",
              "population_density                 float64\n",
              "median_age                         float64\n",
              "aged_65_older                      float64\n",
              "aged_70_older                      float64\n",
              "gdp_per_capita                     float64\n",
              "extreme_poverty                    float64\n",
              "cvd_death_rate                     float64\n",
              "diabetes_prevalence                float64\n",
              "female_smokers                     float64\n",
              "male_smokers                       float64\n",
              "handwashing_facilities             float64\n",
              "hospital_beds_per_thousand         float64\n",
              "life_expectancy                    float64\n",
              "dtype: object"
            ]
          },
          "metadata": {
            "tags": []
          },
          "execution_count": 64
        }
      ]
    },
    {
      "cell_type": "markdown",
      "metadata": {
        "id": "YHke-zLWD0-5",
        "colab_type": "text"
      },
      "source": [
        "Notice that our `date` column is a string. We should convert it to the `datetime` format."
      ]
    },
    {
      "cell_type": "code",
      "metadata": {
        "id": "7tlWn_vpDtZc",
        "colab_type": "code",
        "colab": {}
      },
      "source": [
        "df.date = pd.to_datetime(df.date)"
      ],
      "execution_count": 65,
      "outputs": []
    },
    {
      "cell_type": "markdown",
      "metadata": {
        "id": "4XTbFV59EQvD",
        "colab_type": "text"
      },
      "source": [
        "Moving on, let's check the missing data. As mentioned above, it is hard to accurately keep track of information regarding such a new disease. It would not be a surprise to find out that many entries are missing."
      ]
    },
    {
      "cell_type": "code",
      "metadata": {
        "id": "0ZGJtpnNEIey",
        "colab_type": "code",
        "colab": {
          "base_uri": "https://localhost:8080/",
          "height": 612
        },
        "outputId": "ed37c669-bfb9-4495-8086-c4bb11e8889d"
      },
      "source": [
        "# percentage of missing data per column\n",
        "(df.isnull().sum()  / df.shape[0]).sort_values(ascending=False) * 100"
      ],
      "execution_count": 66,
      "outputs": [
        {
          "output_type": "execute_result",
          "data": {
            "text/plain": [
              "new_tests                          74.088045\n",
              "new_tests_per_thousand             74.088045\n",
              "total_tests_per_thousand           71.494128\n",
              "total_tests                        71.494128\n",
              "new_tests_smoothed_per_thousand    69.273547\n",
              "new_tests_smoothed                 69.273547\n",
              "tests_units                        66.846854\n",
              "handwashing_facilities             59.391771\n",
              "extreme_poverty                    40.277670\n",
              "male_smokers                       28.183091\n",
              "female_smokers                     27.350859\n",
              "stringency_index                   19.366882\n",
              "hospital_beds_per_thousand         17.192969\n",
              "aged_65_older                      10.850121\n",
              "gdp_per_capita                     10.585673\n",
              "aged_70_older                      10.041223\n",
              "median_age                          9.578440\n",
              "cvd_death_rate                      9.520106\n",
              "diabetes_prevalence                 6.548962\n",
              "population_density                  4.316715\n",
              "life_expectancy                     1.384460\n",
              "new_deaths_per_million              1.143346\n",
              "total_deaths_per_million            1.143346\n",
              "new_cases_per_million               1.143346\n",
              "total_cases_per_million             1.143346\n",
              "continent                           0.933344\n",
              "new_deaths                          0.894454\n",
              "total_deaths                        0.894454\n",
              "new_cases                           0.894454\n",
              "total_cases                         0.894454\n",
              "population                          0.248892\n",
              "iso_code                            0.248892\n",
              "date                                0.000000\n",
              "location                            0.000000\n",
              "dtype: float64"
            ]
          },
          "metadata": {
            "tags": []
          },
          "execution_count": 66
        }
      ]
    },
    {
      "cell_type": "markdown",
      "metadata": {
        "id": "5SP_cWHFGcnz",
        "colab_type": "text"
      },
      "source": [
        "As we can see, some variables, especially those related to testings, have a high percentage of missing values. As this study will not focus on tests, we will not deal with these columns."
      ]
    },
    {
      "cell_type": "markdown",
      "metadata": {
        "id": "kdLcZIWGdZhT",
        "colab_type": "text"
      },
      "source": [
        "## Global Overview"
      ]
    },
    {
      "cell_type": "markdown",
      "metadata": {
        "id": "vE2rs7v3HdOe",
        "colab_type": "text"
      },
      "source": [
        "### Top 5 countries in number of cases (June 23, 2020)\n",
        "\n",
        "Let's examine the 5 countries with the highest number of COVID-19 cases."
      ]
    },
    {
      "cell_type": "code",
      "metadata": {
        "id": "Lwntgn5KHYKv",
        "colab_type": "code",
        "colab": {
          "base_uri": "https://localhost:8080/",
          "height": 204
        },
        "outputId": "f058cc7d-59ce-40c8-8d56-cd3364c35e98"
      },
      "source": [
        "# top 5 countries - cases\n",
        "top5_cases = df.loc[df['date'] == '2020-06-23', ['continent', 'location', 'date', 'total_cases']].sort_values(by='total_cases', ascending=False)[1:6].reset_index(drop=True)\n",
        "top5_cases\n"
      ],
      "execution_count": 67,
      "outputs": [
        {
          "output_type": "execute_result",
          "data": {
            "text/html": [
              "<div>\n",
              "<style scoped>\n",
              "    .dataframe tbody tr th:only-of-type {\n",
              "        vertical-align: middle;\n",
              "    }\n",
              "\n",
              "    .dataframe tbody tr th {\n",
              "        vertical-align: top;\n",
              "    }\n",
              "\n",
              "    .dataframe thead th {\n",
              "        text-align: right;\n",
              "    }\n",
              "</style>\n",
              "<table border=\"1\" class=\"dataframe\">\n",
              "  <thead>\n",
              "    <tr style=\"text-align: right;\">\n",
              "      <th></th>\n",
              "      <th>continent</th>\n",
              "      <th>location</th>\n",
              "      <th>date</th>\n",
              "      <th>total_cases</th>\n",
              "    </tr>\n",
              "  </thead>\n",
              "  <tbody>\n",
              "    <tr>\n",
              "      <th>0</th>\n",
              "      <td>North America</td>\n",
              "      <td>United States</td>\n",
              "      <td>2020-06-23</td>\n",
              "      <td>2312302.0</td>\n",
              "    </tr>\n",
              "    <tr>\n",
              "      <th>1</th>\n",
              "      <td>South America</td>\n",
              "      <td>Brazil</td>\n",
              "      <td>2020-06-23</td>\n",
              "      <td>1106470.0</td>\n",
              "    </tr>\n",
              "    <tr>\n",
              "      <th>2</th>\n",
              "      <td>Europe</td>\n",
              "      <td>Russia</td>\n",
              "      <td>2020-06-23</td>\n",
              "      <td>592280.0</td>\n",
              "    </tr>\n",
              "    <tr>\n",
              "      <th>3</th>\n",
              "      <td>Asia</td>\n",
              "      <td>India</td>\n",
              "      <td>2020-06-23</td>\n",
              "      <td>440215.0</td>\n",
              "    </tr>\n",
              "    <tr>\n",
              "      <th>4</th>\n",
              "      <td>Europe</td>\n",
              "      <td>United Kingdom</td>\n",
              "      <td>2020-06-23</td>\n",
              "      <td>305289.0</td>\n",
              "    </tr>\n",
              "  </tbody>\n",
              "</table>\n",
              "</div>"
            ],
            "text/plain": [
              "       continent        location       date  total_cases\n",
              "0  North America   United States 2020-06-23    2312302.0\n",
              "1  South America          Brazil 2020-06-23    1106470.0\n",
              "2         Europe          Russia 2020-06-23     592280.0\n",
              "3           Asia           India 2020-06-23     440215.0\n",
              "4         Europe  United Kingdom 2020-06-23     305289.0"
            ]
          },
          "metadata": {
            "tags": []
          },
          "execution_count": 67
        }
      ]
    },
    {
      "cell_type": "code",
      "metadata": {
        "id": "GgYdjMYQVFA-",
        "colab_type": "code",
        "colab": {
          "base_uri": "https://localhost:8080/",
          "height": 80
        },
        "outputId": "cb8cc13d-5604-4b4d-c718-1cb5ef5d1039"
      },
      "source": [
        "# total world cases\n",
        "world_cases = df.loc[df['date'] == '2020-06-23', ['location', 'total_cases']].sort_values(by='total_cases', ascending=False)[:1].reset_index(drop=True)\n",
        "world_cases"
      ],
      "execution_count": 68,
      "outputs": [
        {
          "output_type": "execute_result",
          "data": {
            "text/html": [
              "<div>\n",
              "<style scoped>\n",
              "    .dataframe tbody tr th:only-of-type {\n",
              "        vertical-align: middle;\n",
              "    }\n",
              "\n",
              "    .dataframe tbody tr th {\n",
              "        vertical-align: top;\n",
              "    }\n",
              "\n",
              "    .dataframe thead th {\n",
              "        text-align: right;\n",
              "    }\n",
              "</style>\n",
              "<table border=\"1\" class=\"dataframe\">\n",
              "  <thead>\n",
              "    <tr style=\"text-align: right;\">\n",
              "      <th></th>\n",
              "      <th>location</th>\n",
              "      <th>total_cases</th>\n",
              "    </tr>\n",
              "  </thead>\n",
              "  <tbody>\n",
              "    <tr>\n",
              "      <th>0</th>\n",
              "      <td>World</td>\n",
              "      <td>9063264.0</td>\n",
              "    </tr>\n",
              "  </tbody>\n",
              "</table>\n",
              "</div>"
            ],
            "text/plain": [
              "  location  total_cases\n",
              "0    World    9063264.0"
            ]
          },
          "metadata": {
            "tags": []
          },
          "execution_count": 68
        }
      ]
    },
    {
      "cell_type": "code",
      "metadata": {
        "id": "sVOFawXBNC4j",
        "colab_type": "code",
        "colab": {
          "base_uri": "https://localhost:8080/",
          "height": 437
        },
        "outputId": "6ae70f78-6f8a-4ff7-9f93-450fd314b959"
      },
      "source": [
        "# create the matplotlib figure instance\n",
        "fig, ax = plt.subplots(figsize=(10, 6))\n",
        "sns.set()\n",
        "\n",
        "# plot with seaborn\n",
        "ax = sns.barplot('location', y='total_cases', data=top5_cases,\n",
        "                 palette='Blues_d')\n",
        "ax.set_title('COVID-19 - Top 5 countries in number of cases - June 23, 2020', fontsize=14)\n",
        "ax.set_xlabel('Country')\n",
        "ax.set_ylabel('Total Cases (million)')\n",
        "plt.tight_layout()\n",
        "plt.savefig('graph1.png')"
      ],
      "execution_count": 69,
      "outputs": [
        {
          "output_type": "display_data",
          "data": {
            "image/png": "[encoded data removed]",
            "text/plain": [
              "<Figure size 720x432 with 1 Axes>"
            ]
          },
          "metadata": {
            "tags": []
          }
        }
      ]
    },
    {
      "cell_type": "markdown",
      "metadata": {
        "id": "wUp7ykPAXteg",
        "colab_type": "text"
      },
      "source": [
        "The total number of COVID-19 cases in the world reached 9 million in June 23, 2020. As for the most affected countries, the United States have 2.3 million cases, followed by Brazil, with over a million cases.\n",
        "\n",
        "Let's check how the numbers on these 5 countries relate to the total number of COVID-19 cases worldwide."
      ]
    },
    {
      "cell_type": "code",
      "metadata": {
        "id": "TpsynxRyJPlB",
        "colab_type": "code",
        "colab": {
          "base_uri": "https://localhost:8080/",
          "height": 34
        },
        "outputId": "6ea91021-861d-4e89-fe06-3eb9f649d374"
      },
      "source": [
        "print('Percentage of cases from the top 5 countries on the total number: {:.2%}'.format(top5_cases['total_cases'].sum() / world_cases['total_cases'].sum()))"
      ],
      "execution_count": 70,
      "outputs": [
        {
          "output_type": "stream",
          "text": [
            "Percentage of cases from the top 5 countries on the total number: 52.48%\n"
          ],
          "name": "stdout"
        }
      ]
    },
    {
      "cell_type": "markdown",
      "metadata": {
        "id": "4xPXmlllVPSB",
        "colab_type": "text"
      },
      "source": [
        "We can notice that the number of infected individuals in the 5 countries above (the United States, Brazil, Russia, India, and United Kingdom) represent more than half of the total number of COVID-19 cases worldwide."
      ]
    },
    {
      "cell_type": "markdown",
      "metadata": {
        "id": "USagFI0IWDbo",
        "colab_type": "text"
      },
      "source": [
        "### Top 5 countries in number of deaths (June 23, 2020)\n",
        "\n",
        "Now, let's examine the 5 countries with the highest number of COVID-19 deahts."
      ]
    },
    {
      "cell_type": "code",
      "metadata": {
        "id": "f5NfctLWTJ42",
        "colab_type": "code",
        "colab": {
          "base_uri": "https://localhost:8080/",
          "height": 204
        },
        "outputId": "ab7dfefd-5d09-49ed-e8be-c0526e80b787"
      },
      "source": [
        "# top 5 countries - deaths\n",
        "top5_deaths = df.loc[df['date'] == '2020-06-23', ['continent', 'location', 'date', 'total_deaths']].sort_values(by='total_deaths', ascending=False)[1:6].reset_index(drop=True)\n",
        "top5_deaths"
      ],
      "execution_count": 71,
      "outputs": [
        {
          "output_type": "execute_result",
          "data": {
            "text/html": [
              "<div>\n",
              "<style scoped>\n",
              "    .dataframe tbody tr th:only-of-type {\n",
              "        vertical-align: middle;\n",
              "    }\n",
              "\n",
              "    .dataframe tbody tr th {\n",
              "        vertical-align: top;\n",
              "    }\n",
              "\n",
              "    .dataframe thead th {\n",
              "        text-align: right;\n",
              "    }\n",
              "</style>\n",
              "<table border=\"1\" class=\"dataframe\">\n",
              "  <thead>\n",
              "    <tr style=\"text-align: right;\">\n",
              "      <th></th>\n",
              "      <th>continent</th>\n",
              "      <th>location</th>\n",
              "      <th>date</th>\n",
              "      <th>total_deaths</th>\n",
              "    </tr>\n",
              "  </thead>\n",
              "  <tbody>\n",
              "    <tr>\n",
              "      <th>0</th>\n",
              "      <td>North America</td>\n",
              "      <td>United States</td>\n",
              "      <td>2020-06-23</td>\n",
              "      <td>120402.0</td>\n",
              "    </tr>\n",
              "    <tr>\n",
              "      <th>1</th>\n",
              "      <td>South America</td>\n",
              "      <td>Brazil</td>\n",
              "      <td>2020-06-23</td>\n",
              "      <td>51271.0</td>\n",
              "    </tr>\n",
              "    <tr>\n",
              "      <th>2</th>\n",
              "      <td>Europe</td>\n",
              "      <td>United Kingdom</td>\n",
              "      <td>2020-06-23</td>\n",
              "      <td>42647.0</td>\n",
              "    </tr>\n",
              "    <tr>\n",
              "      <th>3</th>\n",
              "      <td>Europe</td>\n",
              "      <td>Italy</td>\n",
              "      <td>2020-06-23</td>\n",
              "      <td>34657.0</td>\n",
              "    </tr>\n",
              "    <tr>\n",
              "      <th>4</th>\n",
              "      <td>Europe</td>\n",
              "      <td>France</td>\n",
              "      <td>2020-06-23</td>\n",
              "      <td>29663.0</td>\n",
              "    </tr>\n",
              "  </tbody>\n",
              "</table>\n",
              "</div>"
            ],
            "text/plain": [
              "       continent        location       date  total_deaths\n",
              "0  North America   United States 2020-06-23      120402.0\n",
              "1  South America          Brazil 2020-06-23       51271.0\n",
              "2         Europe  United Kingdom 2020-06-23       42647.0\n",
              "3         Europe           Italy 2020-06-23       34657.0\n",
              "4         Europe          France 2020-06-23       29663.0"
            ]
          },
          "metadata": {
            "tags": []
          },
          "execution_count": 71
        }
      ]
    },
    {
      "cell_type": "code",
      "metadata": {
        "id": "i19c1GK-WxfL",
        "colab_type": "code",
        "colab": {
          "base_uri": "https://localhost:8080/",
          "height": 80
        },
        "outputId": "749a62f1-1815-4cfa-b797-61ea969e4e16"
      },
      "source": [
        "# total world deaths\n",
        "world_deaths = df.loc[df['date'] == '2020-06-23', ['location', 'total_deaths']].sort_values(by='total_deaths', ascending=False)[:1].reset_index(drop=True)\n",
        "world_deaths"
      ],
      "execution_count": 72,
      "outputs": [
        {
          "output_type": "execute_result",
          "data": {
            "text/html": [
              "<div>\n",
              "<style scoped>\n",
              "    .dataframe tbody tr th:only-of-type {\n",
              "        vertical-align: middle;\n",
              "    }\n",
              "\n",
              "    .dataframe tbody tr th {\n",
              "        vertical-align: top;\n",
              "    }\n",
              "\n",
              "    .dataframe thead th {\n",
              "        text-align: right;\n",
              "    }\n",
              "</style>\n",
              "<table border=\"1\" class=\"dataframe\">\n",
              "  <thead>\n",
              "    <tr style=\"text-align: right;\">\n",
              "      <th></th>\n",
              "      <th>location</th>\n",
              "      <th>total_deaths</th>\n",
              "    </tr>\n",
              "  </thead>\n",
              "  <tbody>\n",
              "    <tr>\n",
              "      <th>0</th>\n",
              "      <td>World</td>\n",
              "      <td>471681.0</td>\n",
              "    </tr>\n",
              "  </tbody>\n",
              "</table>\n",
              "</div>"
            ],
            "text/plain": [
              "  location  total_deaths\n",
              "0    World      471681.0"
            ]
          },
          "metadata": {
            "tags": []
          },
          "execution_count": 72
        }
      ]
    },
    {
      "cell_type": "code",
      "metadata": {
        "id": "BiOieYewXf1O",
        "colab_type": "code",
        "colab": {
          "base_uri": "https://localhost:8080/",
          "height": 437
        },
        "outputId": "92c9c3e0-c2dd-463a-c87f-b870efeb9f27"
      },
      "source": [
        "# create the matplotlib figure instance\n",
        "fig, ax = plt.subplots(figsize=(10, 6))\n",
        "sns.set()\n",
        "\n",
        "# plot with seaborn\n",
        "ax = sns.barplot('location', y='total_deaths', data=top5_deaths,\n",
        "                 palette='Reds_r')\n",
        "ax.set_title('COVID-19 - Top 5 countries in number of deaths - June 23, 2020', fontsize=14)\n",
        "ax.set_xlabel('Country')\n",
        "ax.set_ylabel('Total deaths')\n",
        "plt.tight_layout()\n",
        "plt.savefig('graph2.png')"
      ],
      "execution_count": 73,
      "outputs": [
        {
          "output_type": "display_data",
          "data": {
            "image/png": "[encoded data removed]",
            "text/plain": [
              "<Figure size 720x432 with 1 Axes>"
            ]
          },
          "metadata": {
            "tags": []
          }
        }
      ]
    },
    {
      "cell_type": "markdown",
      "metadata": {
        "id": "yWS107N4av7I",
        "colab_type": "text"
      },
      "source": [
        "The total number of COVID-19 deaths exceeds 470,000 as of June 23, 2020. The country with the highest number of casualties is the United States, with 120,000, followed by Brazil, with around 50,000.\n",
        "\n",
        "As we did for the number of cases, let's see how these 5 countries relate to the total number of COVID-19 casualties worldwide."
      ]
    },
    {
      "cell_type": "code",
      "metadata": {
        "id": "UpVBCEL7Zju_",
        "colab_type": "code",
        "colab": {
          "base_uri": "https://localhost:8080/",
          "height": 34
        },
        "outputId": "fb9389db-e236-450e-9408-a69641162f9e"
      },
      "source": [
        "print('Percentage of deaths from the top 5 countries on the total number: {:.2%}'.format(top5_deaths['total_deaths'].sum() / world_deaths['total_deaths'].sum()))"
      ],
      "execution_count": 74,
      "outputs": [
        {
          "output_type": "stream",
          "text": [
            "Percentage of deaths from the top 5 countries on the total number: 59.07%\n"
          ],
          "name": "stdout"
        }
      ]
    },
    {
      "cell_type": "markdown",
      "metadata": {
        "id": "tYD1uK6-cBSe",
        "colab_type": "text"
      },
      "source": [
        "Note that the number of casualties is even more concentrated on the five countries above (the United States, Brazil, United Kingdom, Italy, and France) than the number of total cases."
      ]
    },
    {
      "cell_type": "markdown",
      "metadata": {
        "id": "_xRpqC63dqay",
        "colab_type": "text"
      },
      "source": [
        "### COVID-19 evolution worldwide\n",
        "\n",
        "Since the first reported cases, in December 2019, the number of COVID-19 infections are still increasing about 6 months later. Let's draw a line plot to visualize its evolution, considering the top 5 countries in number of cases."
      ]
    },
    {
      "cell_type": "code",
      "metadata": {
        "id": "G06UnY1XnZxa",
        "colab_type": "code",
        "colab": {
          "base_uri": "https://localhost:8080/",
          "height": 437
        },
        "outputId": "179a7c86-1d63-4a96-91e6-7aeaef0fdea1"
      },
      "source": [
        "top5_evo_cases = df.copy()\n",
        "top5_evo_cases.set_index('location', inplace = True)\n",
        "top5_evo_cases = top5_evo_cases.loc[['United States', 'Brazil', 'Russia', 'India', 'United Kingdom']]\n",
        "top5_evo_cases = top5_evo_cases.reset_index()\n",
        "\n",
        "# create the matplotlib figure instance\n",
        "fig, ax = plt.subplots(figsize=(12, 6))\n",
        "\n",
        "# plot with seaborn\n",
        "ax = sns.lineplot(x='date', y='total_cases', hue='location', data=top5_evo_cases, \n",
        "                  palette='husl');\n",
        "ax.set_title('COVID-19 - Total of cases per country', fontsize=14)\n",
        "ax.set_xlabel('Date')\n",
        "ax.set_ylabel('Number of Cases (million)')\n",
        "\n",
        "plt.tight_layout()\n",
        "plt.savefig('graph3.png')"
      ],
      "execution_count": 85,
      "outputs": [
        {
          "output_type": "display_data",
          "data": {
            "image/png": "[encoded data removed]",
            "text/plain": [
              "<Figure size 864x432 with 1 Axes>"
            ]
          },
          "metadata": {
            "tags": []
          }
        }
      ]
    },
    {
      "cell_type": "markdown",
      "metadata": {
        "id": "-TTiMaG2rjUD",
        "colab_type": "text"
      },
      "source": [
        "Notice how the number of infections in the United States started surging around mid-March and kept increasing ever since. As for the United Kingdom, the number of cases seems to have stabilized in June. \n",
        "\n",
        "Regarding the other 3 countries in the list, the number of cases started to grow exponentially in April and, by mid-May, Brazil's curve detached from its peers, assuming a trend similar to that of the United States a couple of weeks earlier.\n",
        "\n",
        "Now, let's explore the same idea for the total number of deaths."
      ]
    },
    {
      "cell_type": "code",
      "metadata": {
        "id": "YT6mHczonkaK",
        "colab_type": "code",
        "colab": {
          "base_uri": "https://localhost:8080/",
          "height": 437
        },
        "outputId": "e471774e-0ccc-4348-9cb7-9b16ba433360"
      },
      "source": [
        "top5_evo_death = df.copy()\n",
        "top5_evo_death.set_index('location', inplace = True)\n",
        "top5_evo_death = top5_evo_death.loc[['United States', 'Brazil', 'United Kingdom', 'Italy', 'France']]\n",
        "top5_evo_death = top5_evo_death.reset_index()\n",
        "\n",
        "# create the matplotlib figure instance\n",
        "fig, ax = plt.subplots(figsize=(12, 6))\n",
        "\n",
        "# plot with seaborn\n",
        "ax = sns.lineplot(x='date', y='total_deaths', hue='location', data=top5_evo_death, \n",
        "                  palette='husl');\n",
        "ax.set_title('COVID-19 - Total of deaths per country', fontsize=14)\n",
        "ax.set_xlabel('Date')\n",
        "ax.set_ylabel('Number of deaths')\n",
        "\n",
        "plt.tight_layout()\n",
        "plt.savefig('graph4.png')"
      ],
      "execution_count": 76,
      "outputs": [
        {
          "output_type": "display_data",
          "data": {
            "image/png": "[encoded data removed]",
            "text/plain": [
              "<Figure size 864x432 with 1 Axes>"
            ]
          },
          "metadata": {
            "tags": []
          }
        }
      ]
    },
    {
      "cell_type": "markdown",
      "metadata": {
        "id": "Y7Y5emuXvApU",
        "colab_type": "text"
      },
      "source": [
        "From the chart above we can hypothesize that the casualties' curve of the United States, United Kingdom, Italy and France are flattening, while Brazil still doesn't show a clear flattening tendency. \n",
        "\n",
        "One possible reason is that the pandemic hit the former countries a few weeks earlier than Brazil and the natural infectious cycle (added to combat strategy) is helping the number of deaths decrease day by day."
      ]
    },
    {
      "cell_type": "markdown",
      "metadata": {
        "id": "FC_UxTjBxjTN",
        "colab_type": "text"
      },
      "source": [
        "## The current situation in Brazil\n",
        "\n",
        "As we saw in the previous section of this article, Brazil ranks second in the number of cases and casualties. Moreover, its infection and death curves are still not showing a clear flattening trend. Let's take a closer look in Brazil's case.\n",
        "\n",
        "First, let's create a data frame cointaing data of Brazil."
      ]
    },
    {
      "cell_type": "code",
      "metadata": {
        "id": "2ZdI-HPtr4wE",
        "colab_type": "code",
        "colab": {}
      },
      "source": [
        "df_brazil = df.loc[df['location'] == 'Brazil'].copy()\n",
        "df_brazil.set_index('date', inplace=True)"
      ],
      "execution_count": 77,
      "outputs": []
    },
    {
      "cell_type": "code",
      "metadata": {
        "id": "QzOJiTkI4XWN",
        "colab_type": "code",
        "colab": {
          "base_uri": "https://localhost:8080/",
          "height": 340
        },
        "outputId": "0743120f-1756-4e86-830f-38caf92b206f"
      },
      "source": [
        "# check the first rows of df_brazil\n",
        "df_brazil.head()"
      ],
      "execution_count": 78,
      "outputs": [
        {
          "output_type": "execute_result",
          "data": {
            "text/html": [
              "<div>\n",
              "<style scoped>\n",
              "    .dataframe tbody tr th:only-of-type {\n",
              "        vertical-align: middle;\n",
              "    }\n",
              "\n",
              "    .dataframe tbody tr th {\n",
              "        vertical-align: top;\n",
              "    }\n",
              "\n",
              "    .dataframe thead th {\n",
              "        text-align: right;\n",
              "    }\n",
              "</style>\n",
              "<table border=\"1\" class=\"dataframe\">\n",
              "  <thead>\n",
              "    <tr style=\"text-align: right;\">\n",
              "      <th></th>\n",
              "      <th>iso_code</th>\n",
              "      <th>continent</th>\n",
              "      <th>location</th>\n",
              "      <th>total_cases</th>\n",
              "      <th>new_cases</th>\n",
              "      <th>total_deaths</th>\n",
              "      <th>new_deaths</th>\n",
              "      <th>total_cases_per_million</th>\n",
              "      <th>new_cases_per_million</th>\n",
              "      <th>total_deaths_per_million</th>\n",
              "      <th>new_deaths_per_million</th>\n",
              "      <th>total_tests</th>\n",
              "      <th>new_tests</th>\n",
              "      <th>total_tests_per_thousand</th>\n",
              "      <th>new_tests_per_thousand</th>\n",
              "      <th>new_tests_smoothed</th>\n",
              "      <th>new_tests_smoothed_per_thousand</th>\n",
              "      <th>tests_units</th>\n",
              "      <th>stringency_index</th>\n",
              "      <th>population</th>\n",
              "      <th>population_density</th>\n",
              "      <th>median_age</th>\n",
              "      <th>aged_65_older</th>\n",
              "      <th>aged_70_older</th>\n",
              "      <th>gdp_per_capita</th>\n",
              "      <th>extreme_poverty</th>\n",
              "      <th>cvd_death_rate</th>\n",
              "      <th>diabetes_prevalence</th>\n",
              "      <th>female_smokers</th>\n",
              "      <th>male_smokers</th>\n",
              "      <th>handwashing_facilities</th>\n",
              "      <th>hospital_beds_per_thousand</th>\n",
              "      <th>life_expectancy</th>\n",
              "    </tr>\n",
              "    <tr>\n",
              "      <th>date</th>\n",
              "      <th></th>\n",
              "      <th></th>\n",
              "      <th></th>\n",
              "      <th></th>\n",
              "      <th></th>\n",
              "      <th></th>\n",
              "      <th></th>\n",
              "      <th></th>\n",
              "      <th></th>\n",
              "      <th></th>\n",
              "      <th></th>\n",
              "      <th></th>\n",
              "      <th></th>\n",
              "      <th></th>\n",
              "      <th></th>\n",
              "      <th></th>\n",
              "      <th></th>\n",
              "      <th></th>\n",
              "      <th></th>\n",
              "      <th></th>\n",
              "      <th></th>\n",
              "      <th></th>\n",
              "      <th></th>\n",
              "      <th></th>\n",
              "      <th></th>\n",
              "      <th></th>\n",
              "      <th></th>\n",
              "      <th></th>\n",
              "      <th></th>\n",
              "      <th></th>\n",
              "      <th></th>\n",
              "      <th></th>\n",
              "      <th></th>\n",
              "    </tr>\n",
              "  </thead>\n",
              "  <tbody>\n",
              "    <tr>\n",
              "      <th>2019-12-31</th>\n",
              "      <td>BRA</td>\n",
              "      <td>South America</td>\n",
              "      <td>Brazil</td>\n",
              "      <td>0.0</td>\n",
              "      <td>0.0</td>\n",
              "      <td>0.0</td>\n",
              "      <td>0.0</td>\n",
              "      <td>0.0</td>\n",
              "      <td>0.0</td>\n",
              "      <td>0.0</td>\n",
              "      <td>0.0</td>\n",
              "      <td>NaN</td>\n",
              "      <td>NaN</td>\n",
              "      <td>NaN</td>\n",
              "      <td>NaN</td>\n",
              "      <td>NaN</td>\n",
              "      <td>NaN</td>\n",
              "      <td>NaN</td>\n",
              "      <td>NaN</td>\n",
              "      <td>212559409.0</td>\n",
              "      <td>25.04</td>\n",
              "      <td>33.5</td>\n",
              "      <td>8.552</td>\n",
              "      <td>5.06</td>\n",
              "      <td>14103.452</td>\n",
              "      <td>3.4</td>\n",
              "      <td>177.961</td>\n",
              "      <td>8.11</td>\n",
              "      <td>10.1</td>\n",
              "      <td>17.9</td>\n",
              "      <td>NaN</td>\n",
              "      <td>2.2</td>\n",
              "      <td>75.88</td>\n",
              "    </tr>\n",
              "    <tr>\n",
              "      <th>2020-01-01</th>\n",
              "      <td>BRA</td>\n",
              "      <td>South America</td>\n",
              "      <td>Brazil</td>\n",
              "      <td>0.0</td>\n",
              "      <td>0.0</td>\n",
              "      <td>0.0</td>\n",
              "      <td>0.0</td>\n",
              "      <td>0.0</td>\n",
              "      <td>0.0</td>\n",
              "      <td>0.0</td>\n",
              "      <td>0.0</td>\n",
              "      <td>NaN</td>\n",
              "      <td>NaN</td>\n",
              "      <td>NaN</td>\n",
              "      <td>NaN</td>\n",
              "      <td>NaN</td>\n",
              "      <td>NaN</td>\n",
              "      <td>NaN</td>\n",
              "      <td>0.0</td>\n",
              "      <td>212559409.0</td>\n",
              "      <td>25.04</td>\n",
              "      <td>33.5</td>\n",
              "      <td>8.552</td>\n",
              "      <td>5.06</td>\n",
              "      <td>14103.452</td>\n",
              "      <td>3.4</td>\n",
              "      <td>177.961</td>\n",
              "      <td>8.11</td>\n",
              "      <td>10.1</td>\n",
              "      <td>17.9</td>\n",
              "      <td>NaN</td>\n",
              "      <td>2.2</td>\n",
              "      <td>75.88</td>\n",
              "    </tr>\n",
              "    <tr>\n",
              "      <th>2020-01-02</th>\n",
              "      <td>BRA</td>\n",
              "      <td>South America</td>\n",
              "      <td>Brazil</td>\n",
              "      <td>0.0</td>\n",
              "      <td>0.0</td>\n",
              "      <td>0.0</td>\n",
              "      <td>0.0</td>\n",
              "      <td>0.0</td>\n",
              "      <td>0.0</td>\n",
              "      <td>0.0</td>\n",
              "      <td>0.0</td>\n",
              "      <td>NaN</td>\n",
              "      <td>NaN</td>\n",
              "      <td>NaN</td>\n",
              "      <td>NaN</td>\n",
              "      <td>NaN</td>\n",
              "      <td>NaN</td>\n",
              "      <td>NaN</td>\n",
              "      <td>0.0</td>\n",
              "      <td>212559409.0</td>\n",
              "      <td>25.04</td>\n",
              "      <td>33.5</td>\n",
              "      <td>8.552</td>\n",
              "      <td>5.06</td>\n",
              "      <td>14103.452</td>\n",
              "      <td>3.4</td>\n",
              "      <td>177.961</td>\n",
              "      <td>8.11</td>\n",
              "      <td>10.1</td>\n",
              "      <td>17.9</td>\n",
              "      <td>NaN</td>\n",
              "      <td>2.2</td>\n",
              "      <td>75.88</td>\n",
              "    </tr>\n",
              "    <tr>\n",
              "      <th>2020-01-03</th>\n",
              "      <td>BRA</td>\n",
              "      <td>South America</td>\n",
              "      <td>Brazil</td>\n",
              "      <td>0.0</td>\n",
              "      <td>0.0</td>\n",
              "      <td>0.0</td>\n",
              "      <td>0.0</td>\n",
              "      <td>0.0</td>\n",
              "      <td>0.0</td>\n",
              "      <td>0.0</td>\n",
              "      <td>0.0</td>\n",
              "      <td>NaN</td>\n",
              "      <td>NaN</td>\n",
              "      <td>NaN</td>\n",
              "      <td>NaN</td>\n",
              "      <td>NaN</td>\n",
              "      <td>NaN</td>\n",
              "      <td>NaN</td>\n",
              "      <td>0.0</td>\n",
              "      <td>212559409.0</td>\n",
              "      <td>25.04</td>\n",
              "      <td>33.5</td>\n",
              "      <td>8.552</td>\n",
              "      <td>5.06</td>\n",
              "      <td>14103.452</td>\n",
              "      <td>3.4</td>\n",
              "      <td>177.961</td>\n",
              "      <td>8.11</td>\n",
              "      <td>10.1</td>\n",
              "      <td>17.9</td>\n",
              "      <td>NaN</td>\n",
              "      <td>2.2</td>\n",
              "      <td>75.88</td>\n",
              "    </tr>\n",
              "    <tr>\n",
              "      <th>2020-01-04</th>\n",
              "      <td>BRA</td>\n",
              "      <td>South America</td>\n",
              "      <td>Brazil</td>\n",
              "      <td>0.0</td>\n",
              "      <td>0.0</td>\n",
              "      <td>0.0</td>\n",
              "      <td>0.0</td>\n",
              "      <td>0.0</td>\n",
              "      <td>0.0</td>\n",
              "      <td>0.0</td>\n",
              "      <td>0.0</td>\n",
              "      <td>NaN</td>\n",
              "      <td>NaN</td>\n",
              "      <td>NaN</td>\n",
              "      <td>NaN</td>\n",
              "      <td>NaN</td>\n",
              "      <td>NaN</td>\n",
              "      <td>NaN</td>\n",
              "      <td>0.0</td>\n",
              "      <td>212559409.0</td>\n",
              "      <td>25.04</td>\n",
              "      <td>33.5</td>\n",
              "      <td>8.552</td>\n",
              "      <td>5.06</td>\n",
              "      <td>14103.452</td>\n",
              "      <td>3.4</td>\n",
              "      <td>177.961</td>\n",
              "      <td>8.11</td>\n",
              "      <td>10.1</td>\n",
              "      <td>17.9</td>\n",
              "      <td>NaN</td>\n",
              "      <td>2.2</td>\n",
              "      <td>75.88</td>\n",
              "    </tr>\n",
              "  </tbody>\n",
              "</table>\n",
              "</div>"
            ],
            "text/plain": [
              "           iso_code      continent  ... hospital_beds_per_thousand  life_expectancy\n",
              "date                                ...                                            \n",
              "2019-12-31      BRA  South America  ...                        2.2            75.88\n",
              "2020-01-01      BRA  South America  ...                        2.2            75.88\n",
              "2020-01-02      BRA  South America  ...                        2.2            75.88\n",
              "2020-01-03      BRA  South America  ...                        2.2            75.88\n",
              "2020-01-04      BRA  South America  ...                        2.2            75.88\n",
              "\n",
              "[5 rows x 33 columns]"
            ]
          },
          "metadata": {
            "tags": []
          },
          "execution_count": 78
        }
      ]
    },
    {
      "cell_type": "markdown",
      "metadata": {
        "id": "PAWIk8Fj4_bv",
        "colab_type": "text"
      },
      "source": [
        "Everything looks fine with our dataset. Now let's find out when the first case and death caused by COVID-19 occurred in Brazil."
      ]
    },
    {
      "cell_type": "code",
      "metadata": {
        "id": "g9klLEjy6_Yb",
        "colab_type": "code",
        "colab": {
          "base_uri": "https://localhost:8080/",
          "height": 111
        },
        "outputId": "4a8c26f2-d019-469b-ec75-3dc1905b2bd7"
      },
      "source": [
        "first_case_br = df_brazil.loc[df_brazil['total_cases'] == 1, ['total_cases']].sort_values(by='date').head(1)\n",
        "first_case_br"
      ],
      "execution_count": 79,
      "outputs": [
        {
          "output_type": "execute_result",
          "data": {
            "text/html": [
              "<div>\n",
              "<style scoped>\n",
              "    .dataframe tbody tr th:only-of-type {\n",
              "        vertical-align: middle;\n",
              "    }\n",
              "\n",
              "    .dataframe tbody tr th {\n",
              "        vertical-align: top;\n",
              "    }\n",
              "\n",
              "    .dataframe thead th {\n",
              "        text-align: right;\n",
              "    }\n",
              "</style>\n",
              "<table border=\"1\" class=\"dataframe\">\n",
              "  <thead>\n",
              "    <tr style=\"text-align: right;\">\n",
              "      <th></th>\n",
              "      <th>total_cases</th>\n",
              "    </tr>\n",
              "    <tr>\n",
              "      <th>date</th>\n",
              "      <th></th>\n",
              "    </tr>\n",
              "  </thead>\n",
              "  <tbody>\n",
              "    <tr>\n",
              "      <th>2020-02-26</th>\n",
              "      <td>1.0</td>\n",
              "    </tr>\n",
              "  </tbody>\n",
              "</table>\n",
              "</div>"
            ],
            "text/plain": [
              "            total_cases\n",
              "date                   \n",
              "2020-02-26          1.0"
            ]
          },
          "metadata": {
            "tags": []
          },
          "execution_count": 79
        }
      ]
    },
    {
      "cell_type": "code",
      "metadata": {
        "id": "lOg1xMsn4lLN",
        "colab_type": "code",
        "colab": {
          "base_uri": "https://localhost:8080/",
          "height": 111
        },
        "outputId": "1194c01b-a44a-45e1-dca8-4bc584c2eac7"
      },
      "source": [
        "first_death_br = df_brazil.loc[df_brazil['total_deaths'] == 1, ['total_deaths']].sort_values(by='date').head(1)\n",
        "first_death_br"
      ],
      "execution_count": 80,
      "outputs": [
        {
          "output_type": "execute_result",
          "data": {
            "text/html": [
              "<div>\n",
              "<style scoped>\n",
              "    .dataframe tbody tr th:only-of-type {\n",
              "        vertical-align: middle;\n",
              "    }\n",
              "\n",
              "    .dataframe tbody tr th {\n",
              "        vertical-align: top;\n",
              "    }\n",
              "\n",
              "    .dataframe thead th {\n",
              "        text-align: right;\n",
              "    }\n",
              "</style>\n",
              "<table border=\"1\" class=\"dataframe\">\n",
              "  <thead>\n",
              "    <tr style=\"text-align: right;\">\n",
              "      <th></th>\n",
              "      <th>total_deaths</th>\n",
              "    </tr>\n",
              "    <tr>\n",
              "      <th>date</th>\n",
              "      <th></th>\n",
              "    </tr>\n",
              "  </thead>\n",
              "  <tbody>\n",
              "    <tr>\n",
              "      <th>2020-03-18</th>\n",
              "      <td>1.0</td>\n",
              "    </tr>\n",
              "  </tbody>\n",
              "</table>\n",
              "</div>"
            ],
            "text/plain": [
              "            total_deaths\n",
              "date                    \n",
              "2020-03-18           1.0"
            ]
          },
          "metadata": {
            "tags": []
          },
          "execution_count": 80
        }
      ]
    },
    {
      "cell_type": "markdown",
      "metadata": {
        "id": "aT9jwL6v7z_Y",
        "colab_type": "text"
      },
      "source": [
        "The first case of COVID-19 in Brazil was registered on February 26 and the first casualty on March 18. It took 21 days since the first reported case to the first reported death."
      ]
    },
    {
      "cell_type": "markdown",
      "metadata": {
        "id": "LhoX9CkC9dWg",
        "colab_type": "text"
      },
      "source": [
        "Now let's plot a line chart for the number of cases and the number of deaths in Brazil. We are using both the linear and logarithmic scales."
      ]
    },
    {
      "cell_type": "code",
      "metadata": {
        "id": "VCAwXvG955zR",
        "colab_type": "code",
        "colab": {
          "base_uri": "https://localhost:8080/",
          "height": 463
        },
        "outputId": "6b522439-5258-4e8b-fb09-400bf377629c"
      },
      "source": [
        "# create the matplotlib figure instance\n",
        "fig, ax = plt.subplots(nrows=1, ncols=2, figsize=(17, 7))\n",
        "\n",
        "# linear scale\n",
        "ax[0].plot('total_deaths', data=df_brazil)\n",
        "ax[0].plot('total_cases', data=df_brazil)\n",
        "ax[0].set_title('Evolution of COVID-19 in Brazil - Linear Scale', fontsize=14)\n",
        "ax[0].set_xlabel('Date')\n",
        "ax[0].set_ylabel('Number of Cases/Casualties (million)')\n",
        "ax[0].legend()\n",
        "\n",
        "# logarithmic scale\n",
        "plt.yscale('log')\n",
        "ax[1].plot('total_deaths', data=df_brazil)\n",
        "ax[1].plot('total_cases', data=df_brazil)\n",
        "ax[1].set_title('Evolution of COVID-19 in Brazil - Logarithmic Scale', fontsize=14)\n",
        "ax[1].set_xlabel('Date')\n",
        "ax[1].legend()\n",
        "\n",
        "plt.tight_layout(pad=3.0)\n",
        "plt.savefig('graph5.png')"
      ],
      "execution_count": 81,
      "outputs": [
        {
          "output_type": "display_data",
          "data": {
            "image/png": "[encoded data removed]",
            "text/plain": [
              "<Figure size 1224x504 with 2 Axes>"
            ]
          },
          "metadata": {
            "tags": []
          }
        }
      ]
    },
    {
      "cell_type": "markdown",
      "metadata": {
        "id": "8KyL8khYCbmA",
        "colab_type": "text"
      },
      "source": [
        "As we verified previously, the number of cases and casualties in Brazil is on the rise. Fortunately, the mortality rate of COVID-19 is not as high as many other diseases, which can explain the large disparity between the number of cases and the number of deaths. "
      ]
    },
    {
      "cell_type": "markdown",
      "metadata": {
        "id": "6G6jPlpyOMNN",
        "colab_type": "text"
      },
      "source": [
        "A great way to compare the numbers in Brazil with the rest of the world is via Waffle charts.\n",
        "\n",
        "Let's examine Brazil's share on total cases and deaths."
      ]
    },
    {
      "cell_type": "code",
      "metadata": {
        "id": "jHh0ryXoNZVW",
        "colab_type": "code",
        "colab": {}
      },
      "source": [
        "# total cases brazil\n",
        "total_cases_br = df.iloc[3488, 4]\n",
        "# total cases world\n",
        "total_cases_world = df.iloc[25642, 4]\n",
        "# total cases rest of the world\n",
        "total_cases_rest = total_cases_world - total_cases_br\n",
        "\n",
        "# total deaths brazil\n",
        "total_deaths_br = df.iloc[3488, 6]\n",
        "# total deaths world\n",
        "total_deaths_world = df.iloc[25642, 6]\n",
        "# total deaths rest of the world\n",
        "total_deaths_rest = total_deaths_world - total_deaths_br"
      ],
      "execution_count": 82,
      "outputs": []
    },
    {
      "cell_type": "code",
      "metadata": {
        "id": "Ty-Z9r37jDl-",
        "colab_type": "code",
        "colab": {
          "base_uri": "https://localhost:8080/",
          "height": 51
        },
        "outputId": "d33c0117-afe4-443c-b8ff-e254f3433400"
      },
      "source": [
        "print(\"Brazil's share on total cases: {:.2%}\".format(total_cases_br / total_cases_world))\n",
        "print(\"Brazil's share on total deaths: {:.2%}\".format(total_deaths_br / total_deaths_world))"
      ],
      "execution_count": 83,
      "outputs": [
        {
          "output_type": "stream",
          "text": [
            "Brazil's share on total cases: 13.83%\n",
            "Brazil's share on total deaths: 11.74%\n"
          ],
          "name": "stdout"
        }
      ]
    },
    {
      "cell_type": "code",
      "metadata": {
        "id": "dWthDaDlgqZD",
        "colab_type": "code",
        "colab": {
          "base_uri": "https://localhost:8080/",
          "height": 403
        },
        "outputId": "5d4bfce7-bbe9-4246-8c77-70bfdb321812"
      },
      "source": [
        "fig = plt.figure(FigureClass=Waffle,\n",
        "                  plots={\n",
        "                  '311': {\n",
        "                      'values': {'Brazil': total_cases_br, 'Rest of the World': total_cases_rest},\n",
        "                      'labels': ['Brazil', 'Rest of the World'],\n",
        "                      'legend':{'loc': 'upper left', 'bbox_to_anchor':(1.1,1)},\n",
        "                      'title':{'label':\"Proportion of cases: Brazil x Rest of the World\", 'fontsize':14, 'loc':'left'},\n",
        "                      'icons' : 'child' \n",
        "                  },\n",
        "                  '312': {\n",
        "                      'values': {'Brazil': total_deaths_br, 'Rest of the World': total_deaths_rest},\n",
        "                       'labels': ['Brazil', 'Rest of the World'],\n",
        "                      'legend':{'loc': 'upper left', 'bbox_to_anchor':(1.1,1)},\n",
        "                      'title':{'label':'Proportion of deaths: Brazil x Rest of the World','fontsize':14 , 'loc':'left'},\n",
        "                      'icons': 'cross'    \n",
        "                        }  \n",
        "                  },\n",
        "                  rows=4, columns=12, colors=('#E9633C', '#3594A4'), figsize=(20, 10)\n",
        "                  )\n",
        "fig.set_tight_layout(False)\n",
        "plt.show()"
      ],
      "execution_count": 84,
      "outputs": [
        {
          "output_type": "display_data",
          "data": {
            "image/png": "[encoded data removed]",
            "text/plain": [
              "<Waffle size 1440x720 with 2 Axes>"
            ]
          },
          "metadata": {
            "tags": []
          }
        }
      ]
    },
    {
      "cell_type": "markdown",
      "metadata": {
        "id": "XlfcZx-WkhJg",
        "colab_type": "text"
      },
      "source": [
        "Notice that the number of COVID-19 cases and deaths in Brazil represent 13% and 11% of the total number of cases and deaths worldwide, respectively."
      ]
    },
    {
      "cell_type": "markdown",
      "metadata": {
        "id": "DUrDt8iQLXz1",
        "colab_type": "text"
      },
      "source": [
        "## Conclusion\n",
        "\n",
        "We have made a statistical analysis of the development of COVID-19 worldwide, with a focus on the situation of Brazil. One point that sets Brazil apart from other highly affected nations is that some regions of the country started to soften quarantine measures while the number of cases and deaths are on the rise.\n",
        "\n",
        "The United States ranks first for the number of cases and casualties, representing double that of Brazil's numbers, in second place. Nevertheless, the evolution of deaths starts to show signals of deceleration in the United States while the curve in Brazil still doesn't display a clear flattening tendency. In fact, as shown in graph 4, Brazil's curve of total deaths is the only one with a growing trend among the top 5 countries in the number of casualties.\n",
        "\n",
        "In general, the number of COVID-19 cases and deaths are still on the rise worldwide, with some countries being more successful than others in their containment strategies. Of course, a wide variety of factors, such as social and economic circumstances, play a major role in the way countries are dealing with this ongoing pandemic."
      ]
    },
    {
      "cell_type": "code",
      "metadata": {
        "id": "wGzWql-DKfcY",
        "colab_type": "code",
        "colab": {}
      },
      "source": [
        ""
      ],
      "execution_count": null,
      "outputs": []
    }
  ]
}