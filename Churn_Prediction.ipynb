{
  "nbformat": 4,
  "nbformat_minor": 0,
  "metadata": {
    "colab": {
      "name": "Churn Prediction.ipynb",
      "provenance": [],
      "collapsed_sections": [],
      "authorship_tag": "ABX9TyMXJbZM8DTsWhDAW9XTPOzq",
      "include_colab_link": true
    },
    "kernelspec": {
      "name": "python3",
      "display_name": "Python 3"
    }
  },
  "cells": [
    {
      "cell_type": "markdown",
      "metadata": {
        "id": "view-in-github",
        "colab_type": "text"
      },
      "source": [
        "<a href=\"https://colab.research.google.com/github/rmpbastos/data_science/blob/master/Churn_Prediction.ipynb\" target=\"_parent\"><img src=\"https://colab.research.google.com/assets/colab-badge.svg\" alt=\"Open In Colab\"/></a>"
      ]
    },
    {
      "cell_type": "markdown",
      "metadata": {
        "id": "_EUn8hb0ni5M",
        "colab_type": "text"
      },
      "source": [
        "# Churn Prediction\n",
        "\n",
        "### How to build a churn prediction model \n",
        "\n",
        "\n",
        "\n",
        "---\n",
        "\n",
        "Building up and keeping a loyal clientele can be challenging for any company, especially when customers are free to choose from a variety of providers within a product category. Furthermore, retaining existing customers is generally more cost-effective than acquiring new ones.\n",
        "\n",
        "For this reason, evaluating client retention is crucial for business. It is essential to not only measure the level of customer satisfaction but also to measure the amount of clients that stops doing business with a company or service.\n",
        "\n",
        "**Customer churn**, also known as customer attrition, is the percentage of customers that stopped using a company's service during a particular time period. Keeping churn rates as low as possible is what every business pursuits, and understanding this metrics can assist companies to identify potential churners in time to prevent them from leaving the client base.\n",
        "\n",
        "In this article, we will build a churn prediction model based on a telecommunication company dataset.\n"
      ]
    },
    {
      "cell_type": "markdown",
      "metadata": {
        "id": "7nU3GxtOZ_HB",
        "colab_type": "text"
      },
      "source": [
        "## About the data\n",
        "\n",
        "The dataset was provided by [IBM Developer Platform](https://developer.ibm.com/technologies/data-science/patterns/predict-customer-churn-using-watson-studio-and-jupyter-notebooks/#) and is available [here](https://raw.githubusercontent.com/carlosfab/dsnp2/master/datasets/WA_Fn-UseC_-Telco-Customer-Churn.csv). Some information, such as the company name or private client data, were kept anonymous for the sake of confidentiality and will not affect the model's performance.\n",
        "\n",
        "Let's import the necessary libraries and print the first five rows to start examining the dataset."
      ]
    },
    {
      "cell_type": "code",
      "metadata": {
        "id": "1-B07FIzmYIk",
        "colab_type": "code",
        "colab": {
          "base_uri": "https://localhost:8080/",
          "height": 53
        },
        "outputId": "c9f70141-2452-407d-8765-344287116af2"
      },
      "source": [
        "# Import packages\n",
        "import pandas as pd\n",
        "import numpy as np\n",
        "import matplotlib.pyplot as plt\n",
        "import seaborn as sns; sns.set()\n",
        "\n",
        "from sklearn.preprocessing import LabelEncoder\n",
        "\n",
        "%matplotlib inline\n",
        "\n",
        "# Import data\n",
        "DATA_PATH = \"https://raw.githubusercontent.com/carlosfab/dsnp2/master/datasets/WA_Fn-UseC_-Telco-Customer-Churn.csv\"\n",
        "df = pd.read_csv(DATA_PATH)"
      ],
      "execution_count": 1,
      "outputs": [
        {
          "output_type": "stream",
          "text": [
            "/usr/local/lib/python3.6/dist-packages/statsmodels/tools/_testing.py:19: FutureWarning: pandas.util.testing is deprecated. Use the functions in the public API at pandas.testing instead.\n",
            "  import pandas.util.testing as tm\n"
          ],
          "name": "stderr"
        }
      ]
    },
    {
      "cell_type": "code",
      "metadata": {
        "id": "UxVvr5xlApCo",
        "colab_type": "code",
        "colab": {}
      },
      "source": [
        "from sklearn.preprocessing import StandardScaler\n",
        "from sklearn.model_selection import train_test_split\n",
        "from imblearn.under_sampling import RandomUnderSampler\n",
        "\n",
        "from sklearn.svm import SVC\n",
        "from sklearn.linear_model import LogisticRegression\n",
        "from xgboost import XGBClassifier\n",
        "\n",
        "from sklearn.model_selection import cross_validate\n",
        "from sklearn.model_selection import GridSearchCV"
      ],
      "execution_count": 32,
      "outputs": []
    },
    {
      "cell_type": "code",
      "metadata": {
        "id": "MAtQ0Bv82wxD",
        "colab_type": "code",
        "colab": {}
      },
      "source": [
        "# set default matplotlib parameters\n",
        "import matplotlib as mpl\n",
        "\n",
        "COLOR = '#ababab'\n",
        "mpl.rcParams['figure.titlesize'] = 16\n",
        "mpl.rcParams['text.color'] = 'black'\n",
        "mpl.rcParams['axes.labelcolor'] = COLOR\n",
        "mpl.rcParams['xtick.color'] = COLOR\n",
        "mpl.rcParams['ytick.color'] = COLOR\n",
        "mpl.rcParams['grid.color'] = COLOR\n",
        "mpl.rcParams['grid.alpha'] = 0.1"
      ],
      "execution_count": 3,
      "outputs": []
    },
    {
      "cell_type": "code",
      "metadata": {
        "id": "AP3TJL3BfLdS",
        "colab_type": "code",
        "colab": {
          "base_uri": "https://localhost:8080/",
          "height": 309
        },
        "outputId": "02a292b8-309d-4098-a08c-96d3682c4855"
      },
      "source": [
        "df.head()"
      ],
      "execution_count": 4,
      "outputs": [
        {
          "output_type": "execute_result",
          "data": {
            "text/html": [
              "<div>\n",
              "<style scoped>\n",
              "    .dataframe tbody tr th:only-of-type {\n",
              "        vertical-align: middle;\n",
              "    }\n",
              "\n",
              "    .dataframe tbody tr th {\n",
              "        vertical-align: top;\n",
              "    }\n",
              "\n",
              "    .dataframe thead th {\n",
              "        text-align: right;\n",
              "    }\n",
              "</style>\n",
              "<table border=\"1\" class=\"dataframe\">\n",
              "  <thead>\n",
              "    <tr style=\"text-align: right;\">\n",
              "      <th></th>\n",
              "      <th>customerID</th>\n",
              "      <th>gender</th>\n",
              "      <th>SeniorCitizen</th>\n",
              "      <th>Partner</th>\n",
              "      <th>Dependents</th>\n",
              "      <th>tenure</th>\n",
              "      <th>PhoneService</th>\n",
              "      <th>MultipleLines</th>\n",
              "      <th>InternetService</th>\n",
              "      <th>OnlineSecurity</th>\n",
              "      <th>OnlineBackup</th>\n",
              "      <th>DeviceProtection</th>\n",
              "      <th>TechSupport</th>\n",
              "      <th>StreamingTV</th>\n",
              "      <th>StreamingMovies</th>\n",
              "      <th>Contract</th>\n",
              "      <th>PaperlessBilling</th>\n",
              "      <th>PaymentMethod</th>\n",
              "      <th>MonthlyCharges</th>\n",
              "      <th>TotalCharges</th>\n",
              "      <th>Churn</th>\n",
              "    </tr>\n",
              "  </thead>\n",
              "  <tbody>\n",
              "    <tr>\n",
              "      <th>0</th>\n",
              "      <td>7590-VHVEG</td>\n",
              "      <td>Female</td>\n",
              "      <td>0</td>\n",
              "      <td>Yes</td>\n",
              "      <td>No</td>\n",
              "      <td>1</td>\n",
              "      <td>No</td>\n",
              "      <td>No phone service</td>\n",
              "      <td>DSL</td>\n",
              "      <td>No</td>\n",
              "      <td>Yes</td>\n",
              "      <td>No</td>\n",
              "      <td>No</td>\n",
              "      <td>No</td>\n",
              "      <td>No</td>\n",
              "      <td>Month-to-month</td>\n",
              "      <td>Yes</td>\n",
              "      <td>Electronic check</td>\n",
              "      <td>29.85</td>\n",
              "      <td>29.85</td>\n",
              "      <td>No</td>\n",
              "    </tr>\n",
              "    <tr>\n",
              "      <th>1</th>\n",
              "      <td>5575-GNVDE</td>\n",
              "      <td>Male</td>\n",
              "      <td>0</td>\n",
              "      <td>No</td>\n",
              "      <td>No</td>\n",
              "      <td>34</td>\n",
              "      <td>Yes</td>\n",
              "      <td>No</td>\n",
              "      <td>DSL</td>\n",
              "      <td>Yes</td>\n",
              "      <td>No</td>\n",
              "      <td>Yes</td>\n",
              "      <td>No</td>\n",
              "      <td>No</td>\n",
              "      <td>No</td>\n",
              "      <td>One year</td>\n",
              "      <td>No</td>\n",
              "      <td>Mailed check</td>\n",
              "      <td>56.95</td>\n",
              "      <td>1889.5</td>\n",
              "      <td>No</td>\n",
              "    </tr>\n",
              "    <tr>\n",
              "      <th>2</th>\n",
              "      <td>3668-QPYBK</td>\n",
              "      <td>Male</td>\n",
              "      <td>0</td>\n",
              "      <td>No</td>\n",
              "      <td>No</td>\n",
              "      <td>2</td>\n",
              "      <td>Yes</td>\n",
              "      <td>No</td>\n",
              "      <td>DSL</td>\n",
              "      <td>Yes</td>\n",
              "      <td>Yes</td>\n",
              "      <td>No</td>\n",
              "      <td>No</td>\n",
              "      <td>No</td>\n",
              "      <td>No</td>\n",
              "      <td>Month-to-month</td>\n",
              "      <td>Yes</td>\n",
              "      <td>Mailed check</td>\n",
              "      <td>53.85</td>\n",
              "      <td>108.15</td>\n",
              "      <td>Yes</td>\n",
              "    </tr>\n",
              "    <tr>\n",
              "      <th>3</th>\n",
              "      <td>7795-CFOCW</td>\n",
              "      <td>Male</td>\n",
              "      <td>0</td>\n",
              "      <td>No</td>\n",
              "      <td>No</td>\n",
              "      <td>45</td>\n",
              "      <td>No</td>\n",
              "      <td>No phone service</td>\n",
              "      <td>DSL</td>\n",
              "      <td>Yes</td>\n",
              "      <td>No</td>\n",
              "      <td>Yes</td>\n",
              "      <td>Yes</td>\n",
              "      <td>No</td>\n",
              "      <td>No</td>\n",
              "      <td>One year</td>\n",
              "      <td>No</td>\n",
              "      <td>Bank transfer (automatic)</td>\n",
              "      <td>42.30</td>\n",
              "      <td>1840.75</td>\n",
              "      <td>No</td>\n",
              "    </tr>\n",
              "    <tr>\n",
              "      <th>4</th>\n",
              "      <td>9237-HQITU</td>\n",
              "      <td>Female</td>\n",
              "      <td>0</td>\n",
              "      <td>No</td>\n",
              "      <td>No</td>\n",
              "      <td>2</td>\n",
              "      <td>Yes</td>\n",
              "      <td>No</td>\n",
              "      <td>Fiber optic</td>\n",
              "      <td>No</td>\n",
              "      <td>No</td>\n",
              "      <td>No</td>\n",
              "      <td>No</td>\n",
              "      <td>No</td>\n",
              "      <td>No</td>\n",
              "      <td>Month-to-month</td>\n",
              "      <td>Yes</td>\n",
              "      <td>Electronic check</td>\n",
              "      <td>70.70</td>\n",
              "      <td>151.65</td>\n",
              "      <td>Yes</td>\n",
              "    </tr>\n",
              "  </tbody>\n",
              "</table>\n",
              "</div>"
            ],
            "text/plain": [
              "   customerID  gender  SeniorCitizen  ... MonthlyCharges TotalCharges  Churn\n",
              "0  7590-VHVEG  Female              0  ...          29.85        29.85     No\n",
              "1  5575-GNVDE    Male              0  ...          56.95       1889.5     No\n",
              "2  3668-QPYBK    Male              0  ...          53.85       108.15    Yes\n",
              "3  7795-CFOCW    Male              0  ...          42.30      1840.75     No\n",
              "4  9237-HQITU  Female              0  ...          70.70       151.65    Yes\n",
              "\n",
              "[5 rows x 21 columns]"
            ]
          },
          "metadata": {
            "tags": []
          },
          "execution_count": 4
        }
      ]
    },
    {
      "cell_type": "markdown",
      "metadata": {
        "id": "RAlWun56frWu",
        "colab_type": "text"
      },
      "source": [
        "We have a row for each customer and the features' categories are described below:\n",
        "\n",
        "Demographic customer information\n",
        "\n",
        "* `gender`\n",
        "* `SeniorCitizen`\n",
        "* `Partner`\n",
        "* `Dependents`\n",
        "\n",
        "Services that each customer has signed up for\n",
        "\n",
        "* `PhoneService`\n",
        "* `MultipleLines`\n",
        "* `InternetService`\n",
        "* `OnlineSecurity`\n",
        "* `OnlineBackup`\n",
        "* `DeviceProtection`\n",
        "* `TechSupport`\n",
        "* `StreamingTV`\n",
        "* `StreamingMovies`\n",
        "\n",
        "Customer account information\n",
        "\n",
        "* `tenure`\n",
        "* `Contract`\n",
        "* `PaperlessBilling`\n",
        "* `PaymentMethod`\n",
        "* `MonthlyCharges`\n",
        "* `TotalCharges`\n",
        "\n",
        "Customers who left within the last month (This is the feature our model is going to predict)\n",
        "\n",
        "* `Churn`\n"
      ]
    },
    {
      "cell_type": "markdown",
      "metadata": {
        "id": "GIPi7NJ8fTk9",
        "colab_type": "text"
      },
      "source": [
        "## Data Analysis\n",
        "\n",
        "We will start the analysis by taking a look at the size of the dataset and examining the features."
      ]
    },
    {
      "cell_type": "code",
      "metadata": {
        "id": "dezI0FUXf1B4",
        "colab_type": "code",
        "colab": {
          "base_uri": "https://localhost:8080/",
          "height": 53
        },
        "outputId": "e157d44f-5d28-43b1-be74-ace0b44b9d03"
      },
      "source": [
        "print(f\"Rows: \", df.shape[0])\n",
        "print(f\"Columns: \", df.shape[1])"
      ],
      "execution_count": 5,
      "outputs": [
        {
          "output_type": "stream",
          "text": [
            "Rows:  7043\n",
            "Columns:  21\n"
          ],
          "name": "stdout"
        }
      ]
    },
    {
      "cell_type": "code",
      "metadata": {
        "id": "HiqPqgvnfaVW",
        "colab_type": "code",
        "colab": {
          "base_uri": "https://localhost:8080/",
          "height": 521
        },
        "outputId": "e3c5ff06-acfb-417f-a316-be6a3bf86768"
      },
      "source": [
        "df.info()"
      ],
      "execution_count": 6,
      "outputs": [
        {
          "output_type": "stream",
          "text": [
            "<class 'pandas.core.frame.DataFrame'>\n",
            "RangeIndex: 7043 entries, 0 to 7042\n",
            "Data columns (total 21 columns):\n",
            " #   Column            Non-Null Count  Dtype  \n",
            "---  ------            --------------  -----  \n",
            " 0   customerID        7043 non-null   object \n",
            " 1   gender            7043 non-null   object \n",
            " 2   SeniorCitizen     7043 non-null   int64  \n",
            " 3   Partner           7043 non-null   object \n",
            " 4   Dependents        7043 non-null   object \n",
            " 5   tenure            7043 non-null   int64  \n",
            " 6   PhoneService      7043 non-null   object \n",
            " 7   MultipleLines     7043 non-null   object \n",
            " 8   InternetService   7043 non-null   object \n",
            " 9   OnlineSecurity    7043 non-null   object \n",
            " 10  OnlineBackup      7043 non-null   object \n",
            " 11  DeviceProtection  7043 non-null   object \n",
            " 12  TechSupport       7043 non-null   object \n",
            " 13  StreamingTV       7043 non-null   object \n",
            " 14  StreamingMovies   7043 non-null   object \n",
            " 15  Contract          7043 non-null   object \n",
            " 16  PaperlessBilling  7043 non-null   object \n",
            " 17  PaymentMethod     7043 non-null   object \n",
            " 18  MonthlyCharges    7043 non-null   float64\n",
            " 19  TotalCharges      7043 non-null   object \n",
            " 20  Churn             7043 non-null   object \n",
            "dtypes: float64(1), int64(2), object(18)\n",
            "memory usage: 1.1+ MB\n"
          ],
          "name": "stdout"
        }
      ]
    },
    {
      "cell_type": "code",
      "metadata": {
        "id": "1ET8f_ghOGKw",
        "colab_type": "code",
        "colab": {
          "base_uri": "https://localhost:8080/",
          "height": 413
        },
        "outputId": "09a16e68-445c-43cc-988a-336c9e59e8ef"
      },
      "source": [
        "# number of unique observations per column\n",
        "df.nunique()"
      ],
      "execution_count": 7,
      "outputs": [
        {
          "output_type": "execute_result",
          "data": {
            "text/plain": [
              "customerID          7043\n",
              "gender                 2\n",
              "SeniorCitizen          2\n",
              "Partner                2\n",
              "Dependents             2\n",
              "tenure                73\n",
              "PhoneService           2\n",
              "MultipleLines          3\n",
              "InternetService        3\n",
              "OnlineSecurity         3\n",
              "OnlineBackup           3\n",
              "DeviceProtection       3\n",
              "TechSupport            3\n",
              "StreamingTV            3\n",
              "StreamingMovies        3\n",
              "Contract               3\n",
              "PaperlessBilling       2\n",
              "PaymentMethod          4\n",
              "MonthlyCharges      1585\n",
              "TotalCharges        6531\n",
              "Churn                  2\n",
              "dtype: int64"
            ]
          },
          "metadata": {
            "tags": []
          },
          "execution_count": 7
        }
      ]
    },
    {
      "cell_type": "markdown",
      "metadata": {
        "id": "0uTLQcTDj2GC",
        "colab_type": "text"
      },
      "source": [
        "Observe that we have 21 features for 7043 clients. Among all features, 3 of them are numerical, 10 are categorical and the remaining can be considered binary.\n",
        "\n",
        "The feature `customerID` represents a unique value for each row. Eliminating it will help us clean the dataset without spoiling the model.\n",
        "\n",
        "\n"
      ]
    },
    {
      "cell_type": "code",
      "metadata": {
        "id": "ZDmc_LZQjQ2H",
        "colab_type": "code",
        "colab": {}
      },
      "source": [
        "# eliminate 'customerID'\n",
        "df.drop('customerID', axis=1, inplace=True)"
      ],
      "execution_count": 8,
      "outputs": []
    },
    {
      "cell_type": "markdown",
      "metadata": {
        "id": "glnx0daCjPFb",
        "colab_type": "text"
      },
      "source": [
        "Also, notice that the variable `TotalCharges` is wrongly classified as a string. \n",
        "\n",
        "Before moving further, we need to convert `TotalCharges` to float. However, when doing so the following error is raised: *Unable to parse string \" \" at position 488*.\n",
        "\n",
        "Although all features were displayed above as non-null, we need to verify `TotalCharges` for whitespaces counting as strings."
      ]
    },
    {
      "cell_type": "code",
      "metadata": {
        "id": "HbamoqhUHyXA",
        "colab_type": "code",
        "colab": {
          "base_uri": "https://localhost:8080/",
          "height": 35
        },
        "outputId": "0e53b859-a621-4469-c7d5-92cdd3d2e1fa"
      },
      "source": [
        "print(f\"Cells filled with whitespace in 'TotalCharges' (Before): \", len(df[df['TotalCharges'] == ' ']))"
      ],
      "execution_count": 9,
      "outputs": [
        {
          "output_type": "stream",
          "text": [
            "Cells filled with whitespace in 'TotalCharges' (Before):  11\n"
          ],
          "name": "stdout"
        }
      ]
    },
    {
      "cell_type": "markdown",
      "metadata": {
        "id": "pdrpkoroRbYu",
        "colab_type": "text"
      },
      "source": [
        "We should deal with these 11 blank fields before converting the whole column to numerical. First, the blank cells will be replaced by null values. In the following step, they will be filled with the median of `TotalCharges`."
      ]
    },
    {
      "cell_type": "code",
      "metadata": {
        "id": "KPxFxExbSaha",
        "colab_type": "code",
        "colab": {
          "base_uri": "https://localhost:8080/",
          "height": 35
        },
        "outputId": "150079d3-7910-4ec6-de2e-45b40e204b0f"
      },
      "source": [
        "# replace whitespaces by null values \n",
        "df.loc[df['TotalCharges'] == ' ', 'TotalCharges'] = np.nan\n",
        "print(f\"Cells filled with whitespace in 'TotalCharges' (After): \", len(df[df['TotalCharges'] == ' ']))"
      ],
      "execution_count": 10,
      "outputs": [
        {
          "output_type": "stream",
          "text": [
            "Cells filled with whitespace in 'TotalCharges' (After):  0\n"
          ],
          "name": "stdout"
        }
      ]
    },
    {
      "cell_type": "code",
      "metadata": {
        "id": "ATk_mSsmWJ0c",
        "colab_type": "code",
        "colab": {}
      },
      "source": [
        "# replace null values by the median of 'TotalCharges'\n",
        "TotalCharges_median = df['TotalCharges'].median()\n",
        "df['TotalCharges'].fillna(TotalCharges_median, inplace=True)"
      ],
      "execution_count": 11,
      "outputs": []
    },
    {
      "cell_type": "markdown",
      "metadata": {
        "id": "WKgJc8iKYBUl",
        "colab_type": "text"
      },
      "source": [
        "Now we can proceed and convert the `TotalCharges` column to float."
      ]
    },
    {
      "cell_type": "code",
      "metadata": {
        "id": "8zzAxO5OYT2c",
        "colab_type": "code",
        "colab": {}
      },
      "source": [
        "# convert 'TotalCharges' from string to float\n",
        "df['TotalCharges'] = df['TotalCharges'].astype(float)"
      ],
      "execution_count": 12,
      "outputs": []
    },
    {
      "cell_type": "markdown",
      "metadata": {
        "id": "AHPYsiT7XdXk",
        "colab_type": "text"
      },
      "source": [
        "Now that we have dealt with `TotalCharges`, let's check some statistical details of the numerical features and see if there is any evidence of outliers."
      ]
    },
    {
      "cell_type": "code",
      "metadata": {
        "id": "Y11NN76jjtib",
        "colab_type": "code",
        "colab": {
          "base_uri": "https://localhost:8080/",
          "height": 297
        },
        "outputId": "52953424-db6b-49a2-9717-600b8e48eaff"
      },
      "source": [
        "df.describe()"
      ],
      "execution_count": 13,
      "outputs": [
        {
          "output_type": "execute_result",
          "data": {
            "text/html": [
              "<div>\n",
              "<style scoped>\n",
              "    .dataframe tbody tr th:only-of-type {\n",
              "        vertical-align: middle;\n",
              "    }\n",
              "\n",
              "    .dataframe tbody tr th {\n",
              "        vertical-align: top;\n",
              "    }\n",
              "\n",
              "    .dataframe thead th {\n",
              "        text-align: right;\n",
              "    }\n",
              "</style>\n",
              "<table border=\"1\" class=\"dataframe\">\n",
              "  <thead>\n",
              "    <tr style=\"text-align: right;\">\n",
              "      <th></th>\n",
              "      <th>SeniorCitizen</th>\n",
              "      <th>tenure</th>\n",
              "      <th>MonthlyCharges</th>\n",
              "      <th>TotalCharges</th>\n",
              "    </tr>\n",
              "  </thead>\n",
              "  <tbody>\n",
              "    <tr>\n",
              "      <th>count</th>\n",
              "      <td>7043.000000</td>\n",
              "      <td>7043.000000</td>\n",
              "      <td>7043.000000</td>\n",
              "      <td>7043.000000</td>\n",
              "    </tr>\n",
              "    <tr>\n",
              "      <th>mean</th>\n",
              "      <td>0.162147</td>\n",
              "      <td>32.371149</td>\n",
              "      <td>64.761692</td>\n",
              "      <td>2281.916928</td>\n",
              "    </tr>\n",
              "    <tr>\n",
              "      <th>std</th>\n",
              "      <td>0.368612</td>\n",
              "      <td>24.559481</td>\n",
              "      <td>30.090047</td>\n",
              "      <td>2265.270398</td>\n",
              "    </tr>\n",
              "    <tr>\n",
              "      <th>min</th>\n",
              "      <td>0.000000</td>\n",
              "      <td>0.000000</td>\n",
              "      <td>18.250000</td>\n",
              "      <td>18.800000</td>\n",
              "    </tr>\n",
              "    <tr>\n",
              "      <th>25%</th>\n",
              "      <td>0.000000</td>\n",
              "      <td>9.000000</td>\n",
              "      <td>35.500000</td>\n",
              "      <td>402.225000</td>\n",
              "    </tr>\n",
              "    <tr>\n",
              "      <th>50%</th>\n",
              "      <td>0.000000</td>\n",
              "      <td>29.000000</td>\n",
              "      <td>70.350000</td>\n",
              "      <td>1397.475000</td>\n",
              "    </tr>\n",
              "    <tr>\n",
              "      <th>75%</th>\n",
              "      <td>0.000000</td>\n",
              "      <td>55.000000</td>\n",
              "      <td>89.850000</td>\n",
              "      <td>3786.600000</td>\n",
              "    </tr>\n",
              "    <tr>\n",
              "      <th>max</th>\n",
              "      <td>1.000000</td>\n",
              "      <td>72.000000</td>\n",
              "      <td>118.750000</td>\n",
              "      <td>8684.800000</td>\n",
              "    </tr>\n",
              "  </tbody>\n",
              "</table>\n",
              "</div>"
            ],
            "text/plain": [
              "       SeniorCitizen       tenure  MonthlyCharges  TotalCharges\n",
              "count    7043.000000  7043.000000     7043.000000   7043.000000\n",
              "mean        0.162147    32.371149       64.761692   2281.916928\n",
              "std         0.368612    24.559481       30.090047   2265.270398\n",
              "min         0.000000     0.000000       18.250000     18.800000\n",
              "25%         0.000000     9.000000       35.500000    402.225000\n",
              "50%         0.000000    29.000000       70.350000   1397.475000\n",
              "75%         0.000000    55.000000       89.850000   3786.600000\n",
              "max         1.000000    72.000000      118.750000   8684.800000"
            ]
          },
          "metadata": {
            "tags": []
          },
          "execution_count": 13
        }
      ]
    },
    {
      "cell_type": "code",
      "metadata": {
        "id": "r2CpOA9oqf5U",
        "colab_type": "code",
        "colab": {
          "base_uri": "https://localhost:8080/",
          "height": 485
        },
        "outputId": "892a89eb-e074-4c1f-b22b-8d756b305cac"
      },
      "source": [
        "# draw a boxplot to check for outliers\n",
        "fig, ax = plt.subplots(nrows=1, ncols=2, figsize=(9, 7))\n",
        "fig.suptitle(\"Boxplot of 'Monthly Charges' and 'Total Charges'\")\n",
        "\n",
        "boxprops = whiskerprops = capprops = medianprops = dict(linewidth=1)\n",
        "\n",
        "sns.boxplot(df['MonthlyCharges'], orient='v', color='#488ab5', ax=ax[0], \n",
        "            boxprops=boxprops, \n",
        "            whiskerprops=whiskerprops, \n",
        "            capprops=capprops, \n",
        "            medianprops=medianprops)\n",
        "ax[0].set_facecolor('#f5f5f5')\n",
        "ax[0].set_yticks([20, 70, 120])\n",
        "\n",
        "sns.boxplot(df['TotalCharges'], orient='v', color='#488ab5', ax=ax[1],\n",
        "            boxprops=boxprops, \n",
        "            whiskerprops=whiskerprops, \n",
        "            capprops=capprops, \n",
        "            medianprops=medianprops)\n",
        "ax[1].set_facecolor('#f5f5f5')\n",
        "ax[1].set_yticks([0, 4000, 8000])\n",
        "\n",
        "plt.tight_layout(pad=4.0);"
      ],
      "execution_count": 14,
      "outputs": [
        {
          "output_type": "display_data",
          "data": {
            "image/png": "[encoded data removed]",
            "text/plain": [
              "<Figure size 648x504 with 2 Axes>"
            ]
          },
          "metadata": {
            "tags": [],
            "needs_background": "dark"
          }
        }
      ]
    },
    {
      "cell_type": "markdown",
      "metadata": {
        "id": "Vvh8x8k5Zu9N",
        "colab_type": "text"
      },
      "source": [
        "At first glance, everything looks ok with our numerical features. We didn't spot any outlier in `MonthlyCharges` nor in `TotalCharges`.\n",
        "\n",
        "Before starting to apply some feature engineering, let's check the value distribution for our target variable `Churn`."
      ]
    },
    {
      "cell_type": "code",
      "metadata": {
        "id": "R0cnXav8gNG4",
        "colab_type": "code",
        "colab": {
          "base_uri": "https://localhost:8080/",
          "height": 107
        },
        "outputId": "be2c4062-d926-4be5-9989-5812f3b2b297"
      },
      "source": [
        "print(df['Churn'].value_counts())\n",
        "print('\\nTotal Churn Rate: {:.2%}'.format(df[df['Churn'] == 'Yes'].shape[0] / df.shape[0]))"
      ],
      "execution_count": 15,
      "outputs": [
        {
          "output_type": "stream",
          "text": [
            "No     5174\n",
            "Yes    1869\n",
            "Name: Churn, dtype: int64\n",
            "\n",
            "Total Churn Rate: 26.54%\n"
          ],
          "name": "stdout"
        }
      ]
    },
    {
      "cell_type": "markdown",
      "metadata": {
        "id": "Z_aB6IBQrfKD",
        "colab_type": "text"
      },
      "source": [
        "We are dealing with an unbalanced dataset. Observe that the churn rate is 26.5%, meaning that the quantity of \"No\" values is substantially higher than that of \"Yes\" values."
      ]
    },
    {
      "cell_type": "markdown",
      "metadata": {
        "id": "q1l9hR-Ej2lL",
        "colab_type": "text"
      },
      "source": [
        "## Data Preparation\n",
        "\n",
        "Ok, we have already made some minor adjustments to the dataset, such as eliminating `customerID` and converting `TotalCharges` to numerical.\n",
        "\n",
        "Now, we are going to perform a closer examination of the features to identify if any further adjustments can be made to improve our machine learning model. Let's check the unique values for the categorical features."
      ]
    },
    {
      "cell_type": "code",
      "metadata": {
        "id": "sPjdro0hnUnH",
        "colab_type": "code",
        "colab": {
          "base_uri": "https://localhost:8080/",
          "height": 323
        },
        "outputId": "eade1ed9-27b1-4c7c-a218-01e6f605724c"
      },
      "source": [
        "# unique values for each column containing a categorical feature\n",
        "def unique_values():\n",
        "  cat_columns = np.unique(df.select_dtypes('object').columns)\n",
        "  for i in cat_columns:\n",
        "    print(i, df[i].unique())\n",
        "\n",
        "unique_values()"
      ],
      "execution_count": 16,
      "outputs": [
        {
          "output_type": "stream",
          "text": [
            "Churn ['No' 'Yes']\n",
            "Contract ['Month-to-month' 'One year' 'Two year']\n",
            "Dependents ['No' 'Yes']\n",
            "DeviceProtection ['No' 'Yes' 'No internet service']\n",
            "InternetService ['DSL' 'Fiber optic' 'No']\n",
            "MultipleLines ['No phone service' 'No' 'Yes']\n",
            "OnlineBackup ['Yes' 'No' 'No internet service']\n",
            "OnlineSecurity ['No' 'Yes' 'No internet service']\n",
            "PaperlessBilling ['Yes' 'No']\n",
            "Partner ['Yes' 'No']\n",
            "PaymentMethod ['Electronic check' 'Mailed check' 'Bank transfer (automatic)'\n",
            " 'Credit card (automatic)']\n",
            "PhoneService ['No' 'Yes']\n",
            "StreamingMovies ['No' 'Yes' 'No internet service']\n",
            "StreamingTV ['No' 'Yes' 'No internet service']\n",
            "TechSupport ['No' 'Yes' 'No internet service']\n",
            "gender ['Female' 'Male']\n"
          ],
          "name": "stdout"
        }
      ]
    },
    {
      "cell_type": "markdown",
      "metadata": {
        "id": "YPGhm835uerH",
        "colab_type": "text"
      },
      "source": [
        "Some of the columns with 3 unique values could be treated as binary. To illustrate, the columns `StreamingTV` and `TechSupport` have values \"No\", \"Yes\", and \"No internet service\". In these cases, \"No internet service\" could be considered as \"No\"."
      ]
    },
    {
      "cell_type": "code",
      "metadata": {
        "id": "D-MT2Fa9XLXR",
        "colab_type": "code",
        "colab": {}
      },
      "source": [
        "# switch 'No inernet service to 'No'\n",
        "to_binary = ['DeviceProtection', 'OnlineBackup', 'OnlineSecurity', 'StreamingMovies', 'StreamingTV', 'TechSupport']\n",
        "\n",
        "for i in to_binary:\n",
        "  df.loc[df[i].isin(['No internet service']), i] = 'No'"
      ],
      "execution_count": 17,
      "outputs": []
    },
    {
      "cell_type": "markdown",
      "metadata": {
        "id": "VTfnzBzVe9LW",
        "colab_type": "text"
      },
      "source": [
        "Let's check it out to see how the categorical features look like now."
      ]
    },
    {
      "cell_type": "code",
      "metadata": {
        "id": "djzX170Ue4_n",
        "colab_type": "code",
        "colab": {
          "base_uri": "https://localhost:8080/",
          "height": 323
        },
        "outputId": "65736caa-b165-4f38-d9a9-6df5f0d7488c"
      },
      "source": [
        "unique_values()"
      ],
      "execution_count": 18,
      "outputs": [
        {
          "output_type": "stream",
          "text": [
            "Churn ['No' 'Yes']\n",
            "Contract ['Month-to-month' 'One year' 'Two year']\n",
            "Dependents ['No' 'Yes']\n",
            "DeviceProtection ['No' 'Yes']\n",
            "InternetService ['DSL' 'Fiber optic' 'No']\n",
            "MultipleLines ['No phone service' 'No' 'Yes']\n",
            "OnlineBackup ['Yes' 'No']\n",
            "OnlineSecurity ['No' 'Yes']\n",
            "PaperlessBilling ['Yes' 'No']\n",
            "Partner ['Yes' 'No']\n",
            "PaymentMethod ['Electronic check' 'Mailed check' 'Bank transfer (automatic)'\n",
            " 'Credit card (automatic)']\n",
            "PhoneService ['No' 'Yes']\n",
            "StreamingMovies ['No' 'Yes']\n",
            "StreamingTV ['No' 'Yes']\n",
            "TechSupport ['No' 'Yes']\n",
            "gender ['Female' 'Male']\n"
          ],
          "name": "stdout"
        }
      ]
    },
    {
      "cell_type": "markdown",
      "metadata": {
        "id": "0sYSbnAQc0yt",
        "colab_type": "text"
      },
      "source": [
        "As an example, let's plot graphs to see the churn distribution for some of the features.\n",
        "\n",
        "First, we need to convert `Churn` values to numerical. "
      ]
    },
    {
      "cell_type": "code",
      "metadata": {
        "id": "fauVOVWgMOVl",
        "colab_type": "code",
        "colab": {}
      },
      "source": [
        "df.loc[df['Churn'] == 'No','Churn'] = 0 \n",
        "df.loc[df['Churn'] == 'Yes','Churn'] = 1\n",
        "df['Churn'] = df['Churn'].astype(int)"
      ],
      "execution_count": 19,
      "outputs": []
    },
    {
      "cell_type": "code",
      "metadata": {
        "id": "XQtf3vKAMRd_",
        "colab_type": "code",
        "colab": {
          "base_uri": "https://localhost:8080/",
          "height": 671
        },
        "outputId": "85ec44ed-85a2-4442-eefc-48910c8d59c0"
      },
      "source": [
        "fig, ax = plt.subplots(nrows=2, ncols=3, figsize=(18,10))\n",
        "\n",
        "sns.barplot(df['gender'], df['Churn'], color='#488ab5', ci=None, ax=ax[0][0])\n",
        "ax[0][0].set_facecolor('#f5f5f5')\n",
        "ax[0][0].set_ylim(0,1)\n",
        "ax[0][0].set_xlabel(None)\n",
        "ax[0][0].set_title('Gender')\n",
        "\n",
        "sns.barplot(df['Dependents'], df['Churn'], color='#488ab5', ci=None, ax=ax[0][1])\n",
        "ax[0][1].set_facecolor('#f5f5f5')\n",
        "ax[0][1].tick_params(labelleft=False)\n",
        "ax[0][1].set_ylim(0,1)\n",
        "ax[0][1].set_ylabel(None)\n",
        "ax[0][1].set_xlabel(None)\n",
        "ax[0][1].set_title('Dependents')\n",
        "\n",
        "sns.barplot(df['InternetService'], df['Churn'], color='#488ab5', ci=None, ax=ax[0][2])\n",
        "ax[0][2].set_facecolor('#f5f5f5')\n",
        "ax[0][2].tick_params(labelleft=False)\n",
        "ax[0][2].set_ylim(0,1)\n",
        "ax[0][2].set_ylabel(None)\n",
        "ax[0][2].set_xlabel(None)\n",
        "ax[0][2].set_title('Internet Service')\n",
        "\n",
        "sns.barplot(df['DeviceProtection'], df['Churn'], color='#488ab5', ci=None, ax=ax[1][0])\n",
        "ax[1][0].set_facecolor('#f5f5f5')\n",
        "ax[1][0].set_ylim(0,1)\n",
        "ax[1][0].set_xlabel(None)\n",
        "ax[1][0].set_title('Device Protection')\n",
        "\n",
        "sns.barplot(df['OnlineSecurity'], df['Churn'], color='#488ab5', ci=None, ax=ax[1][1])\n",
        "ax[1][1].set_facecolor('#f5f5f5')\n",
        "ax[1][1].tick_params(labelleft=False)\n",
        "ax[1][1].set_ylim(0,1)\n",
        "ax[1][1].set_ylabel(None)\n",
        "ax[1][1].set_xlabel(None)\n",
        "ax[1][1].set_title('Online Security')\n",
        "\n",
        "sns.barplot(df['Contract'], df['Churn'], color='#488ab5', ci=None, ax=ax[1][2])\n",
        "ax[1][2].set_facecolor('#f5f5f5')\n",
        "ax[1][2].tick_params(labelleft=False)\n",
        "ax[1][2].set_ylim(0,1)\n",
        "ax[1][2].set_ylabel(None)\n",
        "ax[1][2].set_xlabel(None)\n",
        "ax[1][2].set_title('Contract')\n",
        "\n",
        "plt.tight_layout(pad=4.0)"
      ],
      "execution_count": 20,
      "outputs": [
        {
          "output_type": "display_data",
          "data": {
            "image/png": "[encoded data removed]",
            "text/plain": [
              "<Figure size 1296x720 with 6 Axes>"
            ]
          },
          "metadata": {
            "tags": [],
            "needs_background": "dark"
          }
        }
      ]
    },
    {
      "cell_type": "markdown",
      "metadata": {
        "id": "dqNc7kvjd02n",
        "colab_type": "text"
      },
      "source": [
        "Looking at the example above, we can interpret that Gender probably won't be a meaningful variable to the model, as the churn rate is quite similar for both male and female customers. On the other hand, clients with dependents are less prone to stop doing business with the company.\n",
        "\n",
        "As for the internet service, customers with fiber optic plans are more likely to quit. Their churn rate is more than double that of DSL and no internet users.\n",
        "\n",
        "Turning to protection services, clients with device protection and online security plans are more likely to maintain their contracts.\n",
        "\n",
        "Lastly, the type of contract might be a valuable feature for the model. Notice that the churn rate for month-to-month contracts is considerably higher than that of one year and two year contracts."
      ]
    },
    {
      "cell_type": "markdown",
      "metadata": {
        "id": "LqfMljSpzVWh",
        "colab_type": "text"
      },
      "source": [
        "Considering that most Machine Learning algorithms work better with numerical inputs, we'll preprocess our data using the following techniques to convert categorical features into numerical values:\n",
        "\n",
        "* `LabelEncoder` for binary\n",
        "* `get_dummies` for other categorical variables"
      ]
    },
    {
      "cell_type": "code",
      "metadata": {
        "id": "xtJ31Xbf80qF",
        "colab_type": "code",
        "colab": {
          "base_uri": "https://localhost:8080/",
          "height": 258
        },
        "outputId": "a494e862-24dc-4aa6-cbed-c68f80818597"
      },
      "source": [
        "# list of binary variables, except 'Churn'\n",
        "bin_var = [col for col in df.columns if len(df[col].unique()) == 2 and col != 'Churn']\n",
        "\n",
        "# list of categorical variables\n",
        "cat_var = [col for col in df.select_dtypes(['object']).columns.tolist() if col not in bin_var]\n",
        "\n",
        "# apply Label Encoding for binaries\n",
        "le = LabelEncoder()\n",
        "for col in bin_var:\n",
        "  df[col] = le.fit_transform(df[col])\n",
        "\n",
        "# apply get_dummies for categorical\n",
        "df = pd.get_dummies(df, columns=cat_var)\n",
        "\n",
        "df.head()"
      ],
      "execution_count": 21,
      "outputs": [
        {
          "output_type": "execute_result",
          "data": {
            "text/html": [
              "<div>\n",
              "<style scoped>\n",
              "    .dataframe tbody tr th:only-of-type {\n",
              "        vertical-align: middle;\n",
              "    }\n",
              "\n",
              "    .dataframe tbody tr th {\n",
              "        vertical-align: top;\n",
              "    }\n",
              "\n",
              "    .dataframe thead th {\n",
              "        text-align: right;\n",
              "    }\n",
              "</style>\n",
              "<table border=\"1\" class=\"dataframe\">\n",
              "  <thead>\n",
              "    <tr style=\"text-align: right;\">\n",
              "      <th></th>\n",
              "      <th>gender</th>\n",
              "      <th>SeniorCitizen</th>\n",
              "      <th>Partner</th>\n",
              "      <th>Dependents</th>\n",
              "      <th>tenure</th>\n",
              "      <th>PhoneService</th>\n",
              "      <th>OnlineSecurity</th>\n",
              "      <th>OnlineBackup</th>\n",
              "      <th>DeviceProtection</th>\n",
              "      <th>TechSupport</th>\n",
              "      <th>StreamingTV</th>\n",
              "      <th>StreamingMovies</th>\n",
              "      <th>PaperlessBilling</th>\n",
              "      <th>MonthlyCharges</th>\n",
              "      <th>TotalCharges</th>\n",
              "      <th>Churn</th>\n",
              "      <th>MultipleLines_No</th>\n",
              "      <th>MultipleLines_No phone service</th>\n",
              "      <th>MultipleLines_Yes</th>\n",
              "      <th>InternetService_DSL</th>\n",
              "      <th>InternetService_Fiber optic</th>\n",
              "      <th>InternetService_No</th>\n",
              "      <th>Contract_Month-to-month</th>\n",
              "      <th>Contract_One year</th>\n",
              "      <th>Contract_Two year</th>\n",
              "      <th>PaymentMethod_Bank transfer (automatic)</th>\n",
              "      <th>PaymentMethod_Credit card (automatic)</th>\n",
              "      <th>PaymentMethod_Electronic check</th>\n",
              "      <th>PaymentMethod_Mailed check</th>\n",
              "    </tr>\n",
              "  </thead>\n",
              "  <tbody>\n",
              "    <tr>\n",
              "      <th>0</th>\n",
              "      <td>0</td>\n",
              "      <td>0</td>\n",
              "      <td>1</td>\n",
              "      <td>0</td>\n",
              "      <td>1</td>\n",
              "      <td>0</td>\n",
              "      <td>0</td>\n",
              "      <td>1</td>\n",
              "      <td>0</td>\n",
              "      <td>0</td>\n",
              "      <td>0</td>\n",
              "      <td>0</td>\n",
              "      <td>1</td>\n",
              "      <td>29.85</td>\n",
              "      <td>29.85</td>\n",
              "      <td>0</td>\n",
              "      <td>0</td>\n",
              "      <td>1</td>\n",
              "      <td>0</td>\n",
              "      <td>1</td>\n",
              "      <td>0</td>\n",
              "      <td>0</td>\n",
              "      <td>1</td>\n",
              "      <td>0</td>\n",
              "      <td>0</td>\n",
              "      <td>0</td>\n",
              "      <td>0</td>\n",
              "      <td>1</td>\n",
              "      <td>0</td>\n",
              "    </tr>\n",
              "    <tr>\n",
              "      <th>1</th>\n",
              "      <td>1</td>\n",
              "      <td>0</td>\n",
              "      <td>0</td>\n",
              "      <td>0</td>\n",
              "      <td>34</td>\n",
              "      <td>1</td>\n",
              "      <td>1</td>\n",
              "      <td>0</td>\n",
              "      <td>1</td>\n",
              "      <td>0</td>\n",
              "      <td>0</td>\n",
              "      <td>0</td>\n",
              "      <td>0</td>\n",
              "      <td>56.95</td>\n",
              "      <td>1889.50</td>\n",
              "      <td>0</td>\n",
              "      <td>1</td>\n",
              "      <td>0</td>\n",
              "      <td>0</td>\n",
              "      <td>1</td>\n",
              "      <td>0</td>\n",
              "      <td>0</td>\n",
              "      <td>0</td>\n",
              "      <td>1</td>\n",
              "      <td>0</td>\n",
              "      <td>0</td>\n",
              "      <td>0</td>\n",
              "      <td>0</td>\n",
              "      <td>1</td>\n",
              "    </tr>\n",
              "    <tr>\n",
              "      <th>2</th>\n",
              "      <td>1</td>\n",
              "      <td>0</td>\n",
              "      <td>0</td>\n",
              "      <td>0</td>\n",
              "      <td>2</td>\n",
              "      <td>1</td>\n",
              "      <td>1</td>\n",
              "      <td>1</td>\n",
              "      <td>0</td>\n",
              "      <td>0</td>\n",
              "      <td>0</td>\n",
              "      <td>0</td>\n",
              "      <td>1</td>\n",
              "      <td>53.85</td>\n",
              "      <td>108.15</td>\n",
              "      <td>1</td>\n",
              "      <td>1</td>\n",
              "      <td>0</td>\n",
              "      <td>0</td>\n",
              "      <td>1</td>\n",
              "      <td>0</td>\n",
              "      <td>0</td>\n",
              "      <td>1</td>\n",
              "      <td>0</td>\n",
              "      <td>0</td>\n",
              "      <td>0</td>\n",
              "      <td>0</td>\n",
              "      <td>0</td>\n",
              "      <td>1</td>\n",
              "    </tr>\n",
              "    <tr>\n",
              "      <th>3</th>\n",
              "      <td>1</td>\n",
              "      <td>0</td>\n",
              "      <td>0</td>\n",
              "      <td>0</td>\n",
              "      <td>45</td>\n",
              "      <td>0</td>\n",
              "      <td>1</td>\n",
              "      <td>0</td>\n",
              "      <td>1</td>\n",
              "      <td>1</td>\n",
              "      <td>0</td>\n",
              "      <td>0</td>\n",
              "      <td>0</td>\n",
              "      <td>42.30</td>\n",
              "      <td>1840.75</td>\n",
              "      <td>0</td>\n",
              "      <td>0</td>\n",
              "      <td>1</td>\n",
              "      <td>0</td>\n",
              "      <td>1</td>\n",
              "      <td>0</td>\n",
              "      <td>0</td>\n",
              "      <td>0</td>\n",
              "      <td>1</td>\n",
              "      <td>0</td>\n",
              "      <td>1</td>\n",
              "      <td>0</td>\n",
              "      <td>0</td>\n",
              "      <td>0</td>\n",
              "    </tr>\n",
              "    <tr>\n",
              "      <th>4</th>\n",
              "      <td>0</td>\n",
              "      <td>0</td>\n",
              "      <td>0</td>\n",
              "      <td>0</td>\n",
              "      <td>2</td>\n",
              "      <td>1</td>\n",
              "      <td>0</td>\n",
              "      <td>0</td>\n",
              "      <td>0</td>\n",
              "      <td>0</td>\n",
              "      <td>0</td>\n",
              "      <td>0</td>\n",
              "      <td>1</td>\n",
              "      <td>70.70</td>\n",
              "      <td>151.65</td>\n",
              "      <td>1</td>\n",
              "      <td>1</td>\n",
              "      <td>0</td>\n",
              "      <td>0</td>\n",
              "      <td>0</td>\n",
              "      <td>1</td>\n",
              "      <td>0</td>\n",
              "      <td>1</td>\n",
              "      <td>0</td>\n",
              "      <td>0</td>\n",
              "      <td>0</td>\n",
              "      <td>0</td>\n",
              "      <td>1</td>\n",
              "      <td>0</td>\n",
              "    </tr>\n",
              "  </tbody>\n",
              "</table>\n",
              "</div>"
            ],
            "text/plain": [
              "   gender  ...  PaymentMethod_Mailed check\n",
              "0       0  ...                           0\n",
              "1       1  ...                           1\n",
              "2       1  ...                           1\n",
              "3       1  ...                           0\n",
              "4       0  ...                           0\n",
              "\n",
              "[5 rows x 29 columns]"
            ]
          },
          "metadata": {
            "tags": []
          },
          "execution_count": 21
        }
      ]
    },
    {
      "cell_type": "markdown",
      "metadata": {
        "id": "NA8eiln7ikKU",
        "colab_type": "text"
      },
      "source": [
        "Now that we have our features preprocessed, the data is ready for the machine learning model."
      ]
    },
    {
      "cell_type": "markdown",
      "metadata": {
        "id": "xkZ6xWK6ECNI",
        "colab_type": "text"
      },
      "source": [
        "#Machine Learning Models\n",
        "\n",
        "The first thing we need to do is splitting the data into training and test sets."
      ]
    },
    {
      "cell_type": "code",
      "metadata": {
        "id": "nnRXL3knm1dO",
        "colab_type": "code",
        "colab": {}
      },
      "source": [
        "# feature matrix\n",
        "X = df.drop('Churn', axis=1)\n",
        "# target vector\n",
        "y = df['Churn']\n",
        "\n",
        "X_train, X_test, y_train, y_test = train_test_split(X, y)"
      ],
      "execution_count": 22,
      "outputs": []
    },
    {
      "cell_type": "markdown",
      "metadata": {
        "id": "FVRYOVBnoVJa",
        "colab_type": "text"
      },
      "source": [
        "Remember that we are dealing with an unbalanced dataset, as we determined a few steps above. \n",
        "\n",
        "To manage the situation, we'll standardize the features of the training set using `StardardScaler` and then apply `RandomUnderSampler`, which is a \"way to balance the data by randomly selecting a subset of data for the targeted classes\", according to the [official documentaion](https://imbalanced-learn.readthedocs.io/en/stable/under_sampling.html#controlled-under-sampling)."
      ]
    },
    {
      "cell_type": "code",
      "metadata": {
        "id": "tv1J1Ow0oUeE",
        "colab_type": "code",
        "colab": {
          "base_uri": "https://localhost:8080/",
          "height": 53
        },
        "outputId": "2b2db823-5019-41c5-ccb6-5a23b2543b8a"
      },
      "source": [
        "scaler = StandardScaler().fit(X_train)\n",
        "X_train = scaler.transform(X_train)\n",
        "\n",
        "rus = RandomUnderSampler()\n",
        "X_train_rus, y_train_rus = rus.fit_sample(X_train, y_train)"
      ],
      "execution_count": 23,
      "outputs": [
        {
          "output_type": "stream",
          "text": [
            "/usr/local/lib/python3.6/dist-packages/sklearn/utils/deprecation.py:87: FutureWarning: Function safe_indexing is deprecated; safe_indexing is deprecated in version 0.22 and will be removed in version 0.24.\n",
            "  warnings.warn(msg, category=FutureWarning)\n"
          ],
          "name": "stderr"
        }
      ]
    },
    {
      "cell_type": "markdown",
      "metadata": {
        "id": "rNwmNxCl1c9x",
        "colab_type": "text"
      },
      "source": [
        "Now that the data is standardized and balanced, the following models will be used and we'll determine which one shows the better results:\n",
        "\n",
        "* SVC (Support Vector Classifier)\n",
        "* Logistic Regression\n",
        "* XGBoost\n",
        "\n",
        "To evaluate the effectiveness of these models, we could use `Precision` or `Recall`. Precision will give us the proportion of positive identifications that were indeed correct, while recall will determine the proportion of real positives that was correctly identified.\n",
        "\n",
        "Considering the problem we are trying to solve, `Recall` will be more suitable for this study, as the objective here is to identify the maximum number of clients that are actually prone to stop doing business with the company, even if some \"non-churners\" are wrongly identify as \"churners\". That is to say, in our case, it is better to pursue the smaller number of False Negatives possible."
      ]
    },
    {
      "cell_type": "code",
      "metadata": {
        "id": "wpVJioP2ODKr",
        "colab_type": "code",
        "colab": {}
      },
      "source": [
        "svc = SVC()\n",
        "lr = LogisticRegression()\n",
        "xgb = XGBClassifier()\n",
        "\n",
        "model = []\n",
        "cross_val = []\n",
        "recall = []\n",
        "for i in (svc, lr, xgb):\n",
        "  model.append(i.__class__.__name__)\n",
        "  cross_val.append(cross_validate(i, X_train_rus, y_train_rus, scoring='recall'))\n",
        "  \n",
        "for d in range(len(cross_val)):\n",
        "  recall.append(cross_val[d]['test_score'].mean())"
      ],
      "execution_count": 24,
      "outputs": []
    },
    {
      "cell_type": "markdown",
      "metadata": {
        "id": "DgIFQnwWS9tc",
        "colab_type": "text"
      },
      "source": [
        "We used **Cross Validation** to get better results. Instead of simply splitting the data into a train and test set, the `cross_validate` method splits our training data into *k* number of *Folds*, making a better use of the data. In our case, we performed a 5-fold cross validation, as we let the default *k* value."
      ]
    },
    {
      "cell_type": "code",
      "metadata": {
        "id": "j6BqLnmlHAuZ",
        "colab_type": "code",
        "colab": {
          "base_uri": "https://localhost:8080/",
          "height": 142
        },
        "outputId": "028d99c6-1038-4737-a581-22471ad26503"
      },
      "source": [
        "model_recall = pd.DataFrame\n",
        "pd.DataFrame(data=recall, index=model, columns=['Recall'])"
      ],
      "execution_count": 25,
      "outputs": [
        {
          "output_type": "execute_result",
          "data": {
            "text/html": [
              "<div>\n",
              "<style scoped>\n",
              "    .dataframe tbody tr th:only-of-type {\n",
              "        vertical-align: middle;\n",
              "    }\n",
              "\n",
              "    .dataframe tbody tr th {\n",
              "        vertical-align: top;\n",
              "    }\n",
              "\n",
              "    .dataframe thead th {\n",
              "        text-align: right;\n",
              "    }\n",
              "</style>\n",
              "<table border=\"1\" class=\"dataframe\">\n",
              "  <thead>\n",
              "    <tr style=\"text-align: right;\">\n",
              "      <th></th>\n",
              "      <th>Recall</th>\n",
              "    </tr>\n",
              "  </thead>\n",
              "  <tbody>\n",
              "    <tr>\n",
              "      <th>SVC</th>\n",
              "      <td>0.772340</td>\n",
              "    </tr>\n",
              "    <tr>\n",
              "      <th>LogisticRegression</th>\n",
              "      <td>0.792908</td>\n",
              "    </tr>\n",
              "    <tr>\n",
              "      <th>XGBClassifier</th>\n",
              "      <td>0.787234</td>\n",
              "    </tr>\n",
              "  </tbody>\n",
              "</table>\n",
              "</div>"
            ],
            "text/plain": [
              "                      Recall\n",
              "SVC                 0.772340\n",
              "LogisticRegression  0.792908\n",
              "XGBClassifier       0.787234"
            ]
          },
          "metadata": {
            "tags": []
          },
          "execution_count": 25
        }
      ]
    },
    {
      "cell_type": "markdown",
      "metadata": {
        "id": "bF2wtdnNVuWi",
        "colab_type": "text"
      },
      "source": [
        "Notice that all 3 models provided similar results, with a recall rate of about 80%. We'll now tune some hyperparameters on the models to see if we can achieve higher recall values. The method utilized here is `GridSearchCV`, which will search over specified parameter values for each estimator. Each model has a variety of parameters that can be tuned, but we are only adjusting those with more potential to impact the prediction (specified in the `param_grid` parameter), while the remainder can be left to their default values."
      ]
    },
    {
      "cell_type": "code",
      "metadata": {
        "id": "e8klJWOBWkH1",
        "colab_type": "code",
        "colab": {
          "base_uri": "https://localhost:8080/",
          "height": 35
        },
        "outputId": "177a5ec7-4a5e-45a4-d2ec-9a47b5ba8c47"
      },
      "source": [
        "# Support Vector Classifier\n",
        "# parameters to be searched\n",
        "param_grid = {'kernel': ['linear', 'poly', 'rbf', 'sigmoid'],\n",
        "              'C': [0.0001, 0.001, 0.01, 0.1, 1, 10, 100]}\n",
        "\n",
        "# find the best parameters\n",
        "grid_search = GridSearchCV(svc, param_grid, scoring='recall')\n",
        "grid_result = grid_search.fit(X_train_rus, y_train_rus)\n",
        "\n",
        "print(f'Best result: {grid_result.best_score_} for {grid_result.best_params_}')"
      ],
      "execution_count": 40,
      "outputs": [
        {
          "output_type": "stream",
          "text": [
            "Best result: 0.973049645390071 for {'C': 0.0001, 'kernel': 'poly'}\n"
          ],
          "name": "stdout"
        }
      ]
    },
    {
      "cell_type": "markdown",
      "metadata": {
        "id": "AQ03SK6ue0QG",
        "colab_type": "text"
      },
      "source": [
        "Notice how effective hyperparameter tuning can be. We searched over different values for `C` and `kernel` and we got an increased recall of 97%, for C = 0.0001 and kernel type \"poly\"."
      ]
    },
    {
      "cell_type": "code",
      "metadata": {
        "id": "CRr0VkyQgNT-",
        "colab_type": "code",
        "colab": {
          "base_uri": "https://localhost:8080/",
          "height": 35
        },
        "outputId": "411ef60e-5277-4319-ffe8-278fc6902bad"
      },
      "source": [
        "# Logistic Regression\n",
        "# parameters to be searched\n",
        "param_grid = {'solver': ['newton-cg', 'lbfgs', 'liblinear'],\n",
        "              'C': [0.0001, 0.001, 0.01, 0.1, 1, 10, 100]}\n",
        "\n",
        "#find the best parameters\n",
        "grid_search = GridSearchCV(lr, param_grid, scoring='recall')\n",
        "grid_result = grid_search.fit(X_train_rus, y_train_rus)\n",
        "\n",
        "print(f'Best result: {grid_result.best_score_} for {grid_result.best_params_}')"
      ],
      "execution_count": 41,
      "outputs": [
        {
          "output_type": "stream",
          "text": [
            "Best result: 0.8631205673758865 for {'C': 0.0001, 'solver': 'liblinear'}\n"
          ],
          "name": "stdout"
        }
      ]
    },
    {
      "cell_type": "markdown",
      "metadata": {
        "id": "xaXhMnV0i9Ye",
        "colab_type": "text"
      },
      "source": [
        "Turning to the Logistic Regression, we achieved a better recall as well, with 86% for C = 0.0001 and solver = \"liblinear\".\n",
        "\n",
        "Finally, let's make some adjustments to the XGBoost estimator. XGBoost is known for being one of the most effective Machine Learning algorithms, due to its great performance on structured and tabular datasets on classification and regression predictive modeling problems. It is highly customizable and counts with a higher range of parameters to be tuned. Let's check it out."
      ]
    },
    {
      "cell_type": "markdown",
      "metadata": {
        "id": "3rgnv1Wlej9h",
        "colab_type": "text"
      },
      "source": [
        "# **GRID SEARCH FOR XGB**"
      ]
    },
    {
      "cell_type": "code",
      "metadata": {
        "id": "1lBIwonEPLtt",
        "colab_type": "code",
        "colab": {
          "base_uri": "https://localhost:8080/",
          "height": 287
        },
        "outputId": "5203b9f2-0f02-4f03-8a75-fce58a5f6e96"
      },
      "source": [
        "svc.get_params()"
      ],
      "execution_count": 31,
      "outputs": [
        {
          "output_type": "execute_result",
          "data": {
            "text/plain": [
              "{'C': 1.0,\n",
              " 'break_ties': False,\n",
              " 'cache_size': 200,\n",
              " 'class_weight': None,\n",
              " 'coef0': 0.0,\n",
              " 'decision_function_shape': 'ovr',\n",
              " 'degree': 3,\n",
              " 'gamma': 'scale',\n",
              " 'kernel': 'rbf',\n",
              " 'max_iter': -1,\n",
              " 'probability': False,\n",
              " 'random_state': None,\n",
              " 'shrinking': True,\n",
              " 'tol': 0.001,\n",
              " 'verbose': False}"
            ]
          },
          "metadata": {
            "tags": []
          },
          "execution_count": 31
        }
      ]
    },
    {
      "cell_type": "code",
      "metadata": {
        "id": "z4ZKXauUPXRL",
        "colab_type": "code",
        "colab": {
          "base_uri": "https://localhost:8080/",
          "height": 287
        },
        "outputId": "6d375217-5d66-4b43-e89d-983ca1180391"
      },
      "source": [
        "lr.get_params()"
      ],
      "execution_count": 28,
      "outputs": [
        {
          "output_type": "execute_result",
          "data": {
            "text/plain": [
              "{'C': 1.0,\n",
              " 'class_weight': None,\n",
              " 'dual': False,\n",
              " 'fit_intercept': True,\n",
              " 'intercept_scaling': 1,\n",
              " 'l1_ratio': None,\n",
              " 'max_iter': 100,\n",
              " 'multi_class': 'auto',\n",
              " 'n_jobs': None,\n",
              " 'penalty': 'l2',\n",
              " 'random_state': None,\n",
              " 'solver': 'lbfgs',\n",
              " 'tol': 0.0001,\n",
              " 'verbose': 0,\n",
              " 'warm_start': False}"
            ]
          },
          "metadata": {
            "tags": []
          },
          "execution_count": 28
        }
      ]
    },
    {
      "cell_type": "code",
      "metadata": {
        "id": "mIah84M2PaHX",
        "colab_type": "code",
        "colab": {
          "base_uri": "https://localhost:8080/",
          "height": 431
        },
        "outputId": "084dba09-11a5-404f-bbc7-1ec40deb7c6c"
      },
      "source": [
        "xgb.get_params()"
      ],
      "execution_count": 29,
      "outputs": [
        {
          "output_type": "execute_result",
          "data": {
            "text/plain": [
              "{'base_score': 0.5,\n",
              " 'booster': 'gbtree',\n",
              " 'colsample_bylevel': 1,\n",
              " 'colsample_bynode': 1,\n",
              " 'colsample_bytree': 1,\n",
              " 'gamma': 0,\n",
              " 'learning_rate': 0.1,\n",
              " 'max_delta_step': 0,\n",
              " 'max_depth': 3,\n",
              " 'min_child_weight': 1,\n",
              " 'missing': None,\n",
              " 'n_estimators': 100,\n",
              " 'n_jobs': 1,\n",
              " 'nthread': None,\n",
              " 'objective': 'binary:logistic',\n",
              " 'random_state': 0,\n",
              " 'reg_alpha': 0,\n",
              " 'reg_lambda': 1,\n",
              " 'scale_pos_weight': 1,\n",
              " 'seed': None,\n",
              " 'silent': None,\n",
              " 'subsample': 1,\n",
              " 'verbosity': 1}"
            ]
          },
          "metadata": {
            "tags": []
          },
          "execution_count": 29
        }
      ]
    },
    {
      "cell_type": "markdown",
      "metadata": {
        "id": "AVwCjGQ2sEs6",
        "colab_type": "text"
      },
      "source": [
        "# USE THE MODELS\n",
        "\n",
        "### Hyperparameter tunning"
      ]
    },
    {
      "cell_type": "markdown",
      "metadata": {
        "id": "YqdyZwGgpBEj",
        "colab_type": "text"
      },
      "source": [
        "Exploratory Analysis\n",
        "\n",
        "IR CONFERINDO COM O GABARITO\n",
        "\n",
        "*   **data type .info()**\n",
        "*   **determine types of features (categorical, numerical)**\n",
        "*   **plot churn rate by features (gender, partner, phone service, internet service etc)**\n",
        "*   **do the same for the numerical features**\n",
        "*   check correlation\n",
        "\n",
        "Data preparation\n",
        "\n",
        "*   **exclude uninportant features**\n",
        "*   **deal with missing data**\n",
        "*   **deal with outliers**\n",
        "*   **feature engineering: label encoder for binary, get dummies for categorical with multiple values**\n",
        "*  **change churn yes, no to 1, 0**\n",
        "*   **feature scaling: standardization, normalization**\n",
        "\n",
        "Machine Learning model\n",
        "\n",
        "*   **models: SVC, Logistic Regression, XGBoost**\n",
        "*   **cross-validation**\n",
        "*   determine best parameters with Grid Search\n",
        "*   determine best feature for each algorithm (feature importance)\n",
        "*   ensamble (VotingClassifier)\n",
        "*   determine best model\n",
        "\n",
        "\n",
        "**APPLY \"STORYTELLING WITH DATA\" LAYOUT ON GRAPHS** \n",
        "\n",
        "\n"
      ]
    },
    {
      "cell_type": "markdown",
      "metadata": {
        "id": "_YC25jrj0r_z",
        "colab_type": "text"
      },
      "source": [
        "#**EXCLUIR A PARTIR DAQUI**"
      ]
    },
    {
      "cell_type": "markdown",
      "metadata": {
        "id": "dfsyQed5fO0x",
        "colab_type": "text"
      },
      "source": [
        "Moving on, for the binary columns, let's convert the stings 'Yes' and 'No' to integers 1 and 0, as we already did for `Churn`."
      ]
    },
    {
      "cell_type": "code",
      "metadata": {
        "id": "K747VtJ5fhVI",
        "colab_type": "code",
        "colab": {}
      },
      "source": [
        "to_binary_copy = to_binary.copy()\n",
        "\n",
        "to_binary_copy.extend(['Dependents', 'PaperlessBilling', 'Partner', 'PhoneService'])\n",
        "\n",
        "for i in to_binary_copy:\n",
        "  df.loc[df[i] == 'Yes', i] = 1\n",
        "  df.loc[df[i] == 'No', i] = 0\n",
        "  df[i] = df[i].astype(int)"
      ],
      "execution_count": null,
      "outputs": []
    },
    {
      "cell_type": "markdown",
      "metadata": {
        "id": "CBKbfyRiODTG",
        "colab_type": "text"
      },
      "source": [
        "**CHECK CORRELATION AFTER CHANGING SOME CATEGORICAL FEATURES TO BINARY**"
      ]
    },
    {
      "cell_type": "code",
      "metadata": {
        "id": "MdNcNsWij46b",
        "colab_type": "code",
        "colab": {
          "base_uri": "https://localhost:8080/",
          "height": 513
        },
        "outputId": "ca2a714a-223a-4f62-e01d-bbef6ee4f6f5"
      },
      "source": [
        "corr = df.corr()\n",
        "\n",
        "fig, ax = plt.subplots(figsize=(9, 7))\n",
        "\n",
        "sns.heatmap(corr, xticklabels=corr.columns, yticklabels=corr.columns, cmap=\"RdBu\")\n",
        "plt.tight_layout()"
      ],
      "execution_count": null,
      "outputs": [
        {
          "output_type": "display_data",
          "data": {
            "image/png": "[encoded data removed]",
            "text/plain": [
              "<Figure size 648x504 with 2 Axes>"
            ]
          },
          "metadata": {
            "tags": [],
            "needs_background": "dark"
          }
        }
      ]
    },
    {
      "cell_type": "code",
      "metadata": {
        "id": "hTuzPmbvoWig",
        "colab_type": "code",
        "colab": {}
      },
      "source": [
        ""
      ],
      "execution_count": null,
      "outputs": []
    }
  ]
}