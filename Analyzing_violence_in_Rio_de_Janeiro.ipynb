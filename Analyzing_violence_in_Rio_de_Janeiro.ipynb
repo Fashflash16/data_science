{
  "nbformat": 4,
  "nbformat_minor": 0,
  "metadata": {
    "colab": {
      "name": "Analyzing violence in Rio de Janeiro.ipynb",
      "provenance": [],
      "collapsed_sections": [],
      "toc_visible": true,
      "include_colab_link": true
    },
    "kernelspec": {
      "name": "python3",
      "display_name": "Python 3"
    }
  },
  "cells": [
    {
      "cell_type": "markdown",
      "metadata": {
        "id": "view-in-github",
        "colab_type": "text"
      },
      "source": [
        "<a href=\"https://colab.research.google.com/github/rmpbastos/data_science/blob/master/Analyzing_violence_in_Rio_de_Janeiro.ipynb\" target=\"_parent\"><img src=\"https://colab.research.google.com/assets/colab-badge.svg\" alt=\"Open In Colab\"/></a>"
      ]
    },
    {
      "cell_type": "markdown",
      "metadata": {
        "id": "-eFQZydM9O9J",
        "colab_type": "text"
      },
      "source": [
        "<center><img alt=\"Crime in Rio\" width=\"80%\" src=\"https://github.com/rmpbastos/data_science/blob/master/img/crime_stux_on_pixabay.png?raw=true\"></center>\n",
        "\n",
        "\n",
        "# **Violence in Rio de Janeiro**\n",
        "### Analyzing violence data of one of the world's most beautiful places using Pandas\n",
        "---\n",
        "\n",
        "Rio de Janeiro is the capital of the state that bears the same name and is the second-most populous city in Brazil, with over 12 million citizens living in its metropolitan area, representing about 70% of the state's total population.\n",
        "\n",
        "Rio lies on a strip of Brazil’s Atlantic coast and is well known for the beauty of its beaches, peaks and hills, mostly covered by tropical forests. Moreover, the city is a Brazilian cultural treasure, having a reputation for holding the most fabulous festivities, like the Carnival and the New Year's Eve celebration in the notorious Copacabana beach.\n",
        "\n",
        "But it is not all good news. Contrasting with the natural beauty of the city and the warmth of its citizens, Rio struggles with a long-standing problem: Violence. The crime rate in the city (and state) of Rio de Janeiro is remarkably high, especially when you compare it with other famous tourist destinations worldwide.\n",
        "\n",
        "In this article, we are going to analyze some violence numbers in the state of Rio de Janeiro with the aid of **Pandas**, one of the best **Python** libraries for Data Analysis.\n",
        "\n",
        "\n",
        "  \n",
        "\n",
        "  "
      ]
    },
    {
      "cell_type": "markdown",
      "metadata": {
        "id": "0zxQHhIUDF_2",
        "colab_type": "text"
      },
      "source": [
        "## About the Data\n",
        "\n",
        "The data utilized here is the official statistics shared by [ISPDados](http://www.ispdados.rj.gov.br/estatistica.html), the state Department of Public Safety, and can be downloaded [here](https://raw.githubusercontent.com/carlosfab/dsnp2/master/datasets/violencia_rio.csv).\n",
        "\n",
        "Our dataset was built based on events reported on occurrence records in the Civil Police stations of the state of Rio de Janeiro, in addition to complementary information from the state's Military Police.\n",
        "\n",
        "The information is displayed by month and covers about 29 years, from January 1991 to August 2019."
      ]
    },
    {
      "cell_type": "markdown",
      "metadata": {
        "id": "7vh4at0l90nr",
        "colab_type": "text"
      },
      "source": [
        "### Importing the csv file\n"
      ]
    },
    {
      "cell_type": "code",
      "metadata": {
        "id": "CYLNme_OCX_R",
        "colab_type": "code",
        "colab": {}
      },
      "source": [
        "import pandas as pd\n",
        "\n",
        "URL_PATH = 'https://raw.githubusercontent.com/carlosfab/dsnp2/master/datasets/violencia_rio.csv'\n",
        "df = pd.read_csv(URL_PATH)"
      ],
      "execution_count": 32,
      "outputs": []
    },
    {
      "cell_type": "markdown",
      "metadata": {
        "id": "qb5By2nIMS6m",
        "colab_type": "text"
      },
      "source": [
        "## Data Analysis\n",
        "\n",
        "First, let's understand our dataset, searching for the following elements:\n",
        "\n",
        "* The size of the data frame\n",
        "* The columns in the dataset\n",
        "* The variable types\n",
        "* Display the first 5 entries\n",
        "* Identify the missing values"
      ]
    },
    {
      "cell_type": "markdown",
      "metadata": {
        "id": "GWeo-BJDjFXk",
        "colab_type": "text"
      },
      "source": [
        "The dataset size:"
      ]
    },
    {
      "cell_type": "code",
      "metadata": {
        "id": "-ACwlgGKg0Pz",
        "colab_type": "code",
        "colab": {
          "base_uri": "https://localhost:8080/",
          "height": 51
        },
        "outputId": "4af677b8-8cb5-49b9-b251-877a5e96bf8c"
      },
      "source": [
        "print('Entries: ', df.shape[0])\n",
        "print('Features: ', df.shape[1])"
      ],
      "execution_count": 33,
      "outputs": [
        {
          "output_type": "stream",
          "text": [
            "Entries:  344\n",
            "Features:  56\n"
          ],
          "name": "stdout"
        }
      ]
    },
    {
      "cell_type": "markdown",
      "metadata": {
        "id": "dEuI1j_MiQBS",
        "colab_type": "text"
      },
      "source": [
        "Notice that our dataset consists of 344 rows and 56 columns."
      ]
    },
    {
      "cell_type": "markdown",
      "metadata": {
        "id": "0xZbK3YDm2dz",
        "colab_type": "text"
      },
      "source": [
        "Now let's check our columns:"
      ]
    },
    {
      "cell_type": "code",
      "metadata": {
        "id": "1RfrX0Zjiv5U",
        "colab_type": "code",
        "colab": {
          "base_uri": "https://localhost:8080/",
          "height": 306
        },
        "outputId": "caf355ab-b051-4d5d-ae22-80e8b2504660"
      },
      "source": [
        "df.columns"
      ],
      "execution_count": 34,
      "outputs": [
        {
          "output_type": "execute_result",
          "data": {
            "text/plain": [
              "Index(['vano', 'mes', 'hom_doloso', 'lesao_corp_morte', 'latrocinio',\n",
              "       'hom_por_interv_policial', 'tentat_hom', 'lesao_corp_dolosa', 'estupro',\n",
              "       'hom_culposo', 'lesao_corp_culposa', 'roubo_comercio',\n",
              "       'roubo_residencia', 'roubo_veiculo', 'roubo_carga', 'roubo_transeunte',\n",
              "       'roubo_em_coletivo', 'roubo_banco', 'roubo_cx_eletronico',\n",
              "       'roubo_celular', 'roubo_conducao_saque', 'roubo_apos_saque',\n",
              "       'roubo_bicicleta', 'outros_roubos', 'total_roubos', 'furto_veiculos',\n",
              "       'furto_transeunte', 'furto_coletivo', 'furto_celular',\n",
              "       'furto_bicicleta', 'outros_furtos', 'total_furtos', 'sequestro',\n",
              "       'extorsao', 'sequestro_relampago', 'estelionato', 'apreensao_drogas',\n",
              "       'posse_drogas', 'trafico_drogas', 'apreensao_drogas_sem_autor',\n",
              "       'recuperacao_veiculos', 'apf', 'aaapai', 'cmp', 'cmba', 'ameaca',\n",
              "       'pessoas_desaparecidas', 'encontro_cadaver', 'encontro_ossada',\n",
              "       'pol_militares_mortos_serv', 'pol_civis_mortos_serv',\n",
              "       'indicador_letalidade', 'indicador_roubo_rua', 'indicador_roubo_veic',\n",
              "       'registro_ocorrencias', 'fase'],\n",
              "      dtype='object')"
            ]
          },
          "metadata": {
            "tags": []
          },
          "execution_count": 34
        }
      ]
    },
    {
      "cell_type": "markdown",
      "metadata": {
        "id": "I3v0cNQBjvdR",
        "colab_type": "text"
      },
      "source": [
        "To better understand the data, it is important to check the types of the variables we are working on:"
      ]
    },
    {
      "cell_type": "code",
      "metadata": {
        "id": "t1EywO41jsFg",
        "colab_type": "code",
        "colab": {
          "base_uri": "https://localhost:8080/",
          "height": 986
        },
        "outputId": "2d1b288c-28c2-4243-d96a-c7bd57c0eefb"
      },
      "source": [
        "df.dtypes"
      ],
      "execution_count": 35,
      "outputs": [
        {
          "output_type": "execute_result",
          "data": {
            "text/plain": [
              "vano                            int64\n",
              "mes                             int64\n",
              "hom_doloso                      int64\n",
              "lesao_corp_morte              float64\n",
              "latrocinio                      int64\n",
              "hom_por_interv_policial       float64\n",
              "tentat_hom                      int64\n",
              "lesao_corp_dolosa               int64\n",
              "estupro                       float64\n",
              "hom_culposo                   float64\n",
              "lesao_corp_culposa            float64\n",
              "roubo_comercio                  int64\n",
              "roubo_residencia                int64\n",
              "roubo_veiculo                   int64\n",
              "roubo_carga                     int64\n",
              "roubo_transeunte                int64\n",
              "roubo_em_coletivo               int64\n",
              "roubo_banco                     int64\n",
              "roubo_cx_eletronico           float64\n",
              "roubo_celular                 float64\n",
              "roubo_conducao_saque          float64\n",
              "roubo_apos_saque              float64\n",
              "roubo_bicicleta               float64\n",
              "outros_roubos                   int64\n",
              "total_roubos                    int64\n",
              "furto_veiculos                  int64\n",
              "furto_transeunte                int64\n",
              "furto_coletivo                float64\n",
              "furto_celular                 float64\n",
              "furto_bicicleta               float64\n",
              "outros_furtos                   int64\n",
              "total_furtos                    int64\n",
              "sequestro                     float64\n",
              "extorsao                      float64\n",
              "sequestro_relampago           float64\n",
              "estelionato                   float64\n",
              "apreensao_drogas                int64\n",
              "posse_drogas                  float64\n",
              "trafico_drogas                float64\n",
              "apreensao_drogas_sem_autor    float64\n",
              "recuperacao_veiculos            int64\n",
              "apf                           float64\n",
              "aaapai                        float64\n",
              "cmp                           float64\n",
              "cmba                          float64\n",
              "ameaca                        float64\n",
              "pessoas_desaparecidas         float64\n",
              "encontro_cadaver                int64\n",
              "encontro_ossada               float64\n",
              "pol_militares_mortos_serv     float64\n",
              "pol_civis_mortos_serv         float64\n",
              "indicador_letalidade            int64\n",
              "indicador_roubo_rua             int64\n",
              "indicador_roubo_veic            int64\n",
              "registro_ocorrencias          float64\n",
              "fase                            int64\n",
              "dtype: object"
            ]
          },
          "metadata": {
            "tags": []
          },
          "execution_count": 35
        }
      ]
    },
    {
      "cell_type": "markdown",
      "metadata": {
        "id": "Mjm6yBj5m4w0",
        "colab_type": "text"
      },
      "source": [
        "Observe that all variables are numerical, of both types `int` and `float`."
      ]
    },
    {
      "cell_type": "markdown",
      "metadata": {
        "id": "5kKCOxoonni0",
        "colab_type": "text"
      },
      "source": [
        "Let's take a glance at the first rows of the dataset:"
      ]
    },
    {
      "cell_type": "code",
      "metadata": {
        "id": "o8gAOH8yjzYh",
        "colab_type": "code",
        "colab": {
          "base_uri": "https://localhost:8080/",
          "height": 224
        },
        "outputId": "3a237702-050d-4638-a2d1-7f8e0298ed38"
      },
      "source": [
        "df.head()"
      ],
      "execution_count": 36,
      "outputs": [
        {
          "output_type": "execute_result",
          "data": {
            "text/html": [
              "<div>\n",
              "<style scoped>\n",
              "    .dataframe tbody tr th:only-of-type {\n",
              "        vertical-align: middle;\n",
              "    }\n",
              "\n",
              "    .dataframe tbody tr th {\n",
              "        vertical-align: top;\n",
              "    }\n",
              "\n",
              "    .dataframe thead th {\n",
              "        text-align: right;\n",
              "    }\n",
              "</style>\n",
              "<table border=\"1\" class=\"dataframe\">\n",
              "  <thead>\n",
              "    <tr style=\"text-align: right;\">\n",
              "      <th></th>\n",
              "      <th>vano</th>\n",
              "      <th>mes</th>\n",
              "      <th>hom_doloso</th>\n",
              "      <th>lesao_corp_morte</th>\n",
              "      <th>latrocinio</th>\n",
              "      <th>hom_por_interv_policial</th>\n",
              "      <th>tentat_hom</th>\n",
              "      <th>lesao_corp_dolosa</th>\n",
              "      <th>estupro</th>\n",
              "      <th>hom_culposo</th>\n",
              "      <th>lesao_corp_culposa</th>\n",
              "      <th>roubo_comercio</th>\n",
              "      <th>roubo_residencia</th>\n",
              "      <th>roubo_veiculo</th>\n",
              "      <th>roubo_carga</th>\n",
              "      <th>roubo_transeunte</th>\n",
              "      <th>roubo_em_coletivo</th>\n",
              "      <th>roubo_banco</th>\n",
              "      <th>roubo_cx_eletronico</th>\n",
              "      <th>roubo_celular</th>\n",
              "      <th>roubo_conducao_saque</th>\n",
              "      <th>roubo_apos_saque</th>\n",
              "      <th>roubo_bicicleta</th>\n",
              "      <th>outros_roubos</th>\n",
              "      <th>total_roubos</th>\n",
              "      <th>furto_veiculos</th>\n",
              "      <th>furto_transeunte</th>\n",
              "      <th>furto_coletivo</th>\n",
              "      <th>furto_celular</th>\n",
              "      <th>furto_bicicleta</th>\n",
              "      <th>outros_furtos</th>\n",
              "      <th>total_furtos</th>\n",
              "      <th>sequestro</th>\n",
              "      <th>extorsao</th>\n",
              "      <th>sequestro_relampago</th>\n",
              "      <th>estelionato</th>\n",
              "      <th>apreensao_drogas</th>\n",
              "      <th>posse_drogas</th>\n",
              "      <th>trafico_drogas</th>\n",
              "      <th>apreensao_drogas_sem_autor</th>\n",
              "      <th>recuperacao_veiculos</th>\n",
              "      <th>apf</th>\n",
              "      <th>aaapai</th>\n",
              "      <th>cmp</th>\n",
              "      <th>cmba</th>\n",
              "      <th>ameaca</th>\n",
              "      <th>pessoas_desaparecidas</th>\n",
              "      <th>encontro_cadaver</th>\n",
              "      <th>encontro_ossada</th>\n",
              "      <th>pol_militares_mortos_serv</th>\n",
              "      <th>pol_civis_mortos_serv</th>\n",
              "      <th>indicador_letalidade</th>\n",
              "      <th>indicador_roubo_rua</th>\n",
              "      <th>indicador_roubo_veic</th>\n",
              "      <th>registro_ocorrencias</th>\n",
              "      <th>fase</th>\n",
              "    </tr>\n",
              "  </thead>\n",
              "  <tbody>\n",
              "    <tr>\n",
              "      <th>0</th>\n",
              "      <td>1991</td>\n",
              "      <td>1</td>\n",
              "      <td>657</td>\n",
              "      <td>NaN</td>\n",
              "      <td>15</td>\n",
              "      <td>NaN</td>\n",
              "      <td>162</td>\n",
              "      <td>3051</td>\n",
              "      <td>NaN</td>\n",
              "      <td>NaN</td>\n",
              "      <td>NaN</td>\n",
              "      <td>350</td>\n",
              "      <td>188</td>\n",
              "      <td>1174</td>\n",
              "      <td>63</td>\n",
              "      <td>967</td>\n",
              "      <td>381</td>\n",
              "      <td>37</td>\n",
              "      <td>NaN</td>\n",
              "      <td>NaN</td>\n",
              "      <td>NaN</td>\n",
              "      <td>NaN</td>\n",
              "      <td>NaN</td>\n",
              "      <td>158</td>\n",
              "      <td>3318</td>\n",
              "      <td>2009</td>\n",
              "      <td>1147</td>\n",
              "      <td>NaN</td>\n",
              "      <td>NaN</td>\n",
              "      <td>NaN</td>\n",
              "      <td>3561</td>\n",
              "      <td>6717</td>\n",
              "      <td>NaN</td>\n",
              "      <td>NaN</td>\n",
              "      <td>NaN</td>\n",
              "      <td>NaN</td>\n",
              "      <td>133</td>\n",
              "      <td>NaN</td>\n",
              "      <td>NaN</td>\n",
              "      <td>NaN</td>\n",
              "      <td>872</td>\n",
              "      <td>NaN</td>\n",
              "      <td>NaN</td>\n",
              "      <td>NaN</td>\n",
              "      <td>NaN</td>\n",
              "      <td>NaN</td>\n",
              "      <td>NaN</td>\n",
              "      <td>217</td>\n",
              "      <td>NaN</td>\n",
              "      <td>NaN</td>\n",
              "      <td>NaN</td>\n",
              "      <td>672</td>\n",
              "      <td>1348</td>\n",
              "      <td>1174</td>\n",
              "      <td>NaN</td>\n",
              "      <td>3</td>\n",
              "    </tr>\n",
              "    <tr>\n",
              "      <th>1</th>\n",
              "      <td>1991</td>\n",
              "      <td>2</td>\n",
              "      <td>732</td>\n",
              "      <td>NaN</td>\n",
              "      <td>17</td>\n",
              "      <td>NaN</td>\n",
              "      <td>175</td>\n",
              "      <td>3421</td>\n",
              "      <td>NaN</td>\n",
              "      <td>NaN</td>\n",
              "      <td>NaN</td>\n",
              "      <td>357</td>\n",
              "      <td>171</td>\n",
              "      <td>1097</td>\n",
              "      <td>64</td>\n",
              "      <td>963</td>\n",
              "      <td>432</td>\n",
              "      <td>35</td>\n",
              "      <td>NaN</td>\n",
              "      <td>NaN</td>\n",
              "      <td>NaN</td>\n",
              "      <td>NaN</td>\n",
              "      <td>NaN</td>\n",
              "      <td>142</td>\n",
              "      <td>3261</td>\n",
              "      <td>1850</td>\n",
              "      <td>1066</td>\n",
              "      <td>NaN</td>\n",
              "      <td>NaN</td>\n",
              "      <td>NaN</td>\n",
              "      <td>3309</td>\n",
              "      <td>6225</td>\n",
              "      <td>NaN</td>\n",
              "      <td>NaN</td>\n",
              "      <td>NaN</td>\n",
              "      <td>NaN</td>\n",
              "      <td>127</td>\n",
              "      <td>NaN</td>\n",
              "      <td>NaN</td>\n",
              "      <td>NaN</td>\n",
              "      <td>751</td>\n",
              "      <td>NaN</td>\n",
              "      <td>NaN</td>\n",
              "      <td>NaN</td>\n",
              "      <td>NaN</td>\n",
              "      <td>NaN</td>\n",
              "      <td>NaN</td>\n",
              "      <td>209</td>\n",
              "      <td>NaN</td>\n",
              "      <td>NaN</td>\n",
              "      <td>NaN</td>\n",
              "      <td>749</td>\n",
              "      <td>1395</td>\n",
              "      <td>1097</td>\n",
              "      <td>NaN</td>\n",
              "      <td>3</td>\n",
              "    </tr>\n",
              "    <tr>\n",
              "      <th>2</th>\n",
              "      <td>1991</td>\n",
              "      <td>3</td>\n",
              "      <td>713</td>\n",
              "      <td>NaN</td>\n",
              "      <td>25</td>\n",
              "      <td>NaN</td>\n",
              "      <td>216</td>\n",
              "      <td>3613</td>\n",
              "      <td>NaN</td>\n",
              "      <td>NaN</td>\n",
              "      <td>NaN</td>\n",
              "      <td>443</td>\n",
              "      <td>191</td>\n",
              "      <td>1265</td>\n",
              "      <td>71</td>\n",
              "      <td>963</td>\n",
              "      <td>422</td>\n",
              "      <td>43</td>\n",
              "      <td>NaN</td>\n",
              "      <td>NaN</td>\n",
              "      <td>NaN</td>\n",
              "      <td>NaN</td>\n",
              "      <td>NaN</td>\n",
              "      <td>131</td>\n",
              "      <td>3529</td>\n",
              "      <td>2084</td>\n",
              "      <td>1062</td>\n",
              "      <td>NaN</td>\n",
              "      <td>NaN</td>\n",
              "      <td>NaN</td>\n",
              "      <td>3573</td>\n",
              "      <td>6719</td>\n",
              "      <td>NaN</td>\n",
              "      <td>NaN</td>\n",
              "      <td>NaN</td>\n",
              "      <td>NaN</td>\n",
              "      <td>80</td>\n",
              "      <td>NaN</td>\n",
              "      <td>NaN</td>\n",
              "      <td>NaN</td>\n",
              "      <td>789</td>\n",
              "      <td>NaN</td>\n",
              "      <td>NaN</td>\n",
              "      <td>NaN</td>\n",
              "      <td>NaN</td>\n",
              "      <td>NaN</td>\n",
              "      <td>NaN</td>\n",
              "      <td>188</td>\n",
              "      <td>NaN</td>\n",
              "      <td>NaN</td>\n",
              "      <td>NaN</td>\n",
              "      <td>738</td>\n",
              "      <td>1385</td>\n",
              "      <td>1265</td>\n",
              "      <td>NaN</td>\n",
              "      <td>3</td>\n",
              "    </tr>\n",
              "    <tr>\n",
              "      <th>3</th>\n",
              "      <td>1991</td>\n",
              "      <td>4</td>\n",
              "      <td>634</td>\n",
              "      <td>NaN</td>\n",
              "      <td>20</td>\n",
              "      <td>NaN</td>\n",
              "      <td>200</td>\n",
              "      <td>3211</td>\n",
              "      <td>NaN</td>\n",
              "      <td>NaN</td>\n",
              "      <td>NaN</td>\n",
              "      <td>425</td>\n",
              "      <td>199</td>\n",
              "      <td>1415</td>\n",
              "      <td>81</td>\n",
              "      <td>1186</td>\n",
              "      <td>354</td>\n",
              "      <td>36</td>\n",
              "      <td>NaN</td>\n",
              "      <td>NaN</td>\n",
              "      <td>NaN</td>\n",
              "      <td>NaN</td>\n",
              "      <td>NaN</td>\n",
              "      <td>112</td>\n",
              "      <td>3808</td>\n",
              "      <td>2085</td>\n",
              "      <td>1195</td>\n",
              "      <td>NaN</td>\n",
              "      <td>NaN</td>\n",
              "      <td>NaN</td>\n",
              "      <td>3290</td>\n",
              "      <td>6570</td>\n",
              "      <td>NaN</td>\n",
              "      <td>NaN</td>\n",
              "      <td>NaN</td>\n",
              "      <td>NaN</td>\n",
              "      <td>133</td>\n",
              "      <td>NaN</td>\n",
              "      <td>NaN</td>\n",
              "      <td>NaN</td>\n",
              "      <td>787</td>\n",
              "      <td>NaN</td>\n",
              "      <td>NaN</td>\n",
              "      <td>NaN</td>\n",
              "      <td>NaN</td>\n",
              "      <td>NaN</td>\n",
              "      <td>NaN</td>\n",
              "      <td>140</td>\n",
              "      <td>NaN</td>\n",
              "      <td>NaN</td>\n",
              "      <td>NaN</td>\n",
              "      <td>654</td>\n",
              "      <td>1540</td>\n",
              "      <td>1415</td>\n",
              "      <td>NaN</td>\n",
              "      <td>3</td>\n",
              "    </tr>\n",
              "    <tr>\n",
              "      <th>4</th>\n",
              "      <td>1991</td>\n",
              "      <td>5</td>\n",
              "      <td>650</td>\n",
              "      <td>NaN</td>\n",
              "      <td>20</td>\n",
              "      <td>NaN</td>\n",
              "      <td>146</td>\n",
              "      <td>3051</td>\n",
              "      <td>NaN</td>\n",
              "      <td>NaN</td>\n",
              "      <td>NaN</td>\n",
              "      <td>553</td>\n",
              "      <td>231</td>\n",
              "      <td>1449</td>\n",
              "      <td>82</td>\n",
              "      <td>931</td>\n",
              "      <td>335</td>\n",
              "      <td>27</td>\n",
              "      <td>NaN</td>\n",
              "      <td>NaN</td>\n",
              "      <td>NaN</td>\n",
              "      <td>NaN</td>\n",
              "      <td>NaN</td>\n",
              "      <td>147</td>\n",
              "      <td>3755</td>\n",
              "      <td>2185</td>\n",
              "      <td>723</td>\n",
              "      <td>NaN</td>\n",
              "      <td>NaN</td>\n",
              "      <td>NaN</td>\n",
              "      <td>3546</td>\n",
              "      <td>6454</td>\n",
              "      <td>NaN</td>\n",
              "      <td>NaN</td>\n",
              "      <td>NaN</td>\n",
              "      <td>NaN</td>\n",
              "      <td>163</td>\n",
              "      <td>NaN</td>\n",
              "      <td>NaN</td>\n",
              "      <td>NaN</td>\n",
              "      <td>845</td>\n",
              "      <td>NaN</td>\n",
              "      <td>NaN</td>\n",
              "      <td>NaN</td>\n",
              "      <td>NaN</td>\n",
              "      <td>NaN</td>\n",
              "      <td>NaN</td>\n",
              "      <td>78</td>\n",
              "      <td>NaN</td>\n",
              "      <td>NaN</td>\n",
              "      <td>NaN</td>\n",
              "      <td>670</td>\n",
              "      <td>1266</td>\n",
              "      <td>1449</td>\n",
              "      <td>NaN</td>\n",
              "      <td>3</td>\n",
              "    </tr>\n",
              "  </tbody>\n",
              "</table>\n",
              "</div>"
            ],
            "text/plain": [
              "   vano  mes  hom_doloso  ...  indicador_roubo_veic  registro_ocorrencias  fase\n",
              "0  1991    1         657  ...                  1174                   NaN     3\n",
              "1  1991    2         732  ...                  1097                   NaN     3\n",
              "2  1991    3         713  ...                  1265                   NaN     3\n",
              "3  1991    4         634  ...                  1415                   NaN     3\n",
              "4  1991    5         650  ...                  1449                   NaN     3\n",
              "\n",
              "[5 rows x 56 columns]"
            ]
          },
          "metadata": {
            "tags": []
          },
          "execution_count": 36
        }
      ]
    },
    {
      "cell_type": "markdown",
      "metadata": {
        "id": "xdL6O0MzoYLf",
        "colab_type": "text"
      },
      "source": [
        "With a brief analysis of the first 5 entries, we can notice that there are some missing values. Let's check the percentage of missing data for each feature:"
      ]
    },
    {
      "cell_type": "code",
      "metadata": {
        "id": "w4rPJlknj5Q3",
        "colab_type": "code",
        "colab": {
          "base_uri": "https://localhost:8080/",
          "height": 986
        },
        "outputId": "9a6c266b-4154-436f-8156-563c89e901f0"
      },
      "source": [
        "# percentage of missing values\n",
        "missing = ((df.isnull().sum() / df.shape[0] * 100).sort_values(ascending=False))\n",
        "missing"
      ],
      "execution_count": 37,
      "outputs": [
        {
          "output_type": "execute_result",
          "data": {
            "text/plain": [
              "roubo_bicicleta               80.232558\n",
              "furto_bicicleta               80.232558\n",
              "apreensao_drogas_sem_autor    52.325581\n",
              "posse_drogas                  52.325581\n",
              "apf                           52.325581\n",
              "aaapai                        52.325581\n",
              "cmp                           52.325581\n",
              "trafico_drogas                52.325581\n",
              "cmba                          52.325581\n",
              "sequestro_relampago           41.860465\n",
              "furto_coletivo                41.860465\n",
              "extorsao                      41.860465\n",
              "furto_celular                 41.860465\n",
              "roubo_apos_saque              41.860465\n",
              "roubo_conducao_saque          41.860465\n",
              "roubo_cx_eletronico           41.860465\n",
              "estupro                       41.860465\n",
              "estelionato                   41.860465\n",
              "pol_civis_mortos_serv         41.860465\n",
              "pol_militares_mortos_serv     41.860465\n",
              "pessoas_desaparecidas         38.372093\n",
              "encontro_ossada               38.372093\n",
              "roubo_celular                 31.395349\n",
              "lesao_corp_culposa            27.906977\n",
              "ameaca                        27.906977\n",
              "sequestro                     27.906977\n",
              "lesao_corp_morte              27.906977\n",
              "registro_ocorrencias          27.906977\n",
              "hom_por_interv_policial       24.418605\n",
              "hom_culposo                   24.418605\n",
              "tentat_hom                     0.000000\n",
              "roubo_comercio                 0.000000\n",
              "roubo_residencia               0.000000\n",
              "latrocinio                     0.000000\n",
              "lesao_corp_dolosa              0.000000\n",
              "hom_doloso                     0.000000\n",
              "roubo_transeunte               0.000000\n",
              "mes                            0.000000\n",
              "roubo_veiculo                  0.000000\n",
              "roubo_carga                    0.000000\n",
              "fase                           0.000000\n",
              "roubo_em_coletivo              0.000000\n",
              "roubo_banco                    0.000000\n",
              "outros_roubos                  0.000000\n",
              "total_roubos                   0.000000\n",
              "furto_veiculos                 0.000000\n",
              "furto_transeunte               0.000000\n",
              "outros_furtos                  0.000000\n",
              "total_furtos                   0.000000\n",
              "apreensao_drogas               0.000000\n",
              "recuperacao_veiculos           0.000000\n",
              "encontro_cadaver               0.000000\n",
              "indicador_letalidade           0.000000\n",
              "indicador_roubo_rua            0.000000\n",
              "indicador_roubo_veic           0.000000\n",
              "vano                           0.000000\n",
              "dtype: float64"
            ]
          },
          "metadata": {
            "tags": []
          },
          "execution_count": 37
        }
      ]
    },
    {
      "cell_type": "markdown",
      "metadata": {
        "id": "L-FtmSkoqUWz",
        "colab_type": "text"
      },
      "source": [
        "It is evident that we are working with a large number of missing values here. Take for instance the information about bike theft (`roubo_bicicleta`, `furto_bicicleta`) and drug-related crimes (`apreensao_drogas_sem_autor`, `posse_drogas`, `trafico_drogas`). More than half of the entries for these felonies are missing.\n",
        "\n",
        "There are several reasons why this could happen. To this day, many organizations in Brazil still struggle to record data properly. It is possible that some types of crime were not being accurately registered 30 years ago.\n",
        "\n",
        "For this article, the features we will use are complete, so there is no need to worry about the missing values."
      ]
    },
    {
      "cell_type": "markdown",
      "metadata": {
        "id": "xezlCXNMwgk1",
        "colab_type": "text"
      },
      "source": [
        "### Dealing with the variables\n",
        "\n",
        "We are going to create a new data frame containing only the essential variables as well as rename those variables for a better understanding. But first, let's merge the columns `vano` (year) and `mes` (month) to create a unique date column and let's convert it to `datetime`."
      ]
    },
    {
      "cell_type": "code",
      "metadata": {
        "id": "o2XUG--3E30E",
        "colab_type": "code",
        "colab": {}
      },
      "source": [
        "# merge year and month into one column and convert it to 'datetime'\n",
        "df['data'] = df['mes'].astype(str) + '/' + df['vano'].astype(str)\n",
        "df['data'] = pd.to_datetime(df['data'], format='%m/%Y')\n",
        "df['data'] = df['data'].dt.to_period('M')"
      ],
      "execution_count": 38,
      "outputs": []
    },
    {
      "cell_type": "markdown",
      "metadata": {
        "id": "1WeX3bwOOekU",
        "colab_type": "text"
      },
      "source": [
        "Now let's create a new data frame called `df_crime`, containing the features for our analysis, and rename the columns."
      ]
    },
    {
      "cell_type": "code",
      "metadata": {
        "id": "7dZF04-yrUec",
        "colab_type": "code",
        "colab": {}
      },
      "source": [
        "# extract essential features from 'df' into 'df_crime'\n",
        "df_crime = df[['data', 'roubo_veiculo', 'furto_veiculos', 'recuperacao_veiculos', 'hom_doloso', 'roubo_em_coletivo']]\n",
        "\n",
        "#rename columns\n",
        "df_crime = df_crime.rename({'data': 'date', 'roubo_veiculo': 'violent_car_theft', 'furto_veiculos': 'nonviolent_car_theft', 'recuperacao_veiculos': 'vehicle_recovery', 'hom_doloso': 'murder', 'roubo_em_coletivo': 'publ_transport_theft'}, axis=1)"
      ],
      "execution_count": 39,
      "outputs": []
    },
    {
      "cell_type": "code",
      "metadata": {
        "id": "R_PHQjlz0VWQ",
        "colab_type": "code",
        "colab": {
          "base_uri": "https://localhost:8080/",
          "height": 204
        },
        "outputId": "e3789e21-2844-45b7-e0c3-e9983f6f2ca4"
      },
      "source": [
        "# check the new data frame\n",
        "df_crime.head()"
      ],
      "execution_count": 40,
      "outputs": [
        {
          "output_type": "execute_result",
          "data": {
            "text/html": [
              "<div>\n",
              "<style scoped>\n",
              "    .dataframe tbody tr th:only-of-type {\n",
              "        vertical-align: middle;\n",
              "    }\n",
              "\n",
              "    .dataframe tbody tr th {\n",
              "        vertical-align: top;\n",
              "    }\n",
              "\n",
              "    .dataframe thead th {\n",
              "        text-align: right;\n",
              "    }\n",
              "</style>\n",
              "<table border=\"1\" class=\"dataframe\">\n",
              "  <thead>\n",
              "    <tr style=\"text-align: right;\">\n",
              "      <th></th>\n",
              "      <th>date</th>\n",
              "      <th>violent_car_theft</th>\n",
              "      <th>nonviolent_car_theft</th>\n",
              "      <th>vehicle_recovery</th>\n",
              "      <th>murder</th>\n",
              "      <th>publ_transport_theft</th>\n",
              "    </tr>\n",
              "  </thead>\n",
              "  <tbody>\n",
              "    <tr>\n",
              "      <th>0</th>\n",
              "      <td>1991-01</td>\n",
              "      <td>1174</td>\n",
              "      <td>2009</td>\n",
              "      <td>872</td>\n",
              "      <td>657</td>\n",
              "      <td>381</td>\n",
              "    </tr>\n",
              "    <tr>\n",
              "      <th>1</th>\n",
              "      <td>1991-02</td>\n",
              "      <td>1097</td>\n",
              "      <td>1850</td>\n",
              "      <td>751</td>\n",
              "      <td>732</td>\n",
              "      <td>432</td>\n",
              "    </tr>\n",
              "    <tr>\n",
              "      <th>2</th>\n",
              "      <td>1991-03</td>\n",
              "      <td>1265</td>\n",
              "      <td>2084</td>\n",
              "      <td>789</td>\n",
              "      <td>713</td>\n",
              "      <td>422</td>\n",
              "    </tr>\n",
              "    <tr>\n",
              "      <th>3</th>\n",
              "      <td>1991-04</td>\n",
              "      <td>1415</td>\n",
              "      <td>2085</td>\n",
              "      <td>787</td>\n",
              "      <td>634</td>\n",
              "      <td>354</td>\n",
              "    </tr>\n",
              "    <tr>\n",
              "      <th>4</th>\n",
              "      <td>1991-05</td>\n",
              "      <td>1449</td>\n",
              "      <td>2185</td>\n",
              "      <td>845</td>\n",
              "      <td>650</td>\n",
              "      <td>335</td>\n",
              "    </tr>\n",
              "  </tbody>\n",
              "</table>\n",
              "</div>"
            ],
            "text/plain": [
              "      date  violent_car_theft  ...  murder  publ_transport_theft\n",
              "0  1991-01               1174  ...     657                   381\n",
              "1  1991-02               1097  ...     732                   432\n",
              "2  1991-03               1265  ...     713                   422\n",
              "3  1991-04               1415  ...     634                   354\n",
              "4  1991-05               1449  ...     650                   335\n",
              "\n",
              "[5 rows x 6 columns]"
            ]
          },
          "metadata": {
            "tags": []
          },
          "execution_count": 40
        }
      ]
    },
    {
      "cell_type": "markdown",
      "metadata": {
        "id": "pTvtifco0iAU",
        "colab_type": "text"
      },
      "source": [
        "Our data frame is ready! Please find below a description of our variables:"
      ]
    },
    {
      "cell_type": "markdown",
      "metadata": {
        "id": "QXpOWR59qSwZ",
        "colab_type": "text"
      },
      "source": [
        "  **Variables library**\n",
        "  \n",
        "  * `date` - Year and month of the records\n",
        "  * `violent_car_theft` - Violent vehicle theft by the use of force or intimidation\n",
        "  * `nonviolent_car_theft` - Non-violent vehicle theft \n",
        "  * `vehicle_recovery` - Number of recovered stolen vehicles\n",
        "  * `murder` - Willful homicide\n",
        "  * `publ_transport_theft` - Public transport robbery"
      ]
    },
    {
      "cell_type": "markdown",
      "metadata": {
        "id": "G6dnsNYm-41g",
        "colab_type": "text"
      },
      "source": [
        "## Statistical Analysis\n",
        "\n",
        "Let's get some statistical insights from our dataset using the method `describe`."
      ]
    },
    {
      "cell_type": "code",
      "metadata": {
        "id": "_IMxOVUDkUD0",
        "colab_type": "code",
        "colab": {
          "base_uri": "https://localhost:8080/",
          "height": 297
        },
        "outputId": "640d30fb-346b-411f-f601-4f40e903d151"
      },
      "source": [
        "# basic statistical details\n",
        "df_crime.describe()"
      ],
      "execution_count": 41,
      "outputs": [
        {
          "output_type": "execute_result",
          "data": {
            "text/html": [
              "<div>\n",
              "<style scoped>\n",
              "    .dataframe tbody tr th:only-of-type {\n",
              "        vertical-align: middle;\n",
              "    }\n",
              "\n",
              "    .dataframe tbody tr th {\n",
              "        vertical-align: top;\n",
              "    }\n",
              "\n",
              "    .dataframe thead th {\n",
              "        text-align: right;\n",
              "    }\n",
              "</style>\n",
              "<table border=\"1\" class=\"dataframe\">\n",
              "  <thead>\n",
              "    <tr style=\"text-align: right;\">\n",
              "      <th></th>\n",
              "      <th>violent_car_theft</th>\n",
              "      <th>nonviolent_car_theft</th>\n",
              "      <th>vehicle_recovery</th>\n",
              "      <th>murder</th>\n",
              "      <th>publ_transport_theft</th>\n",
              "    </tr>\n",
              "  </thead>\n",
              "  <tbody>\n",
              "    <tr>\n",
              "      <th>count</th>\n",
              "      <td>344.000000</td>\n",
              "      <td>344.000000</td>\n",
              "      <td>344.000000</td>\n",
              "      <td>344.000000</td>\n",
              "      <td>344.000000</td>\n",
              "    </tr>\n",
              "    <tr>\n",
              "      <th>mean</th>\n",
              "      <td>2448.697674</td>\n",
              "      <td>1674.671512</td>\n",
              "      <td>1772.238372</td>\n",
              "      <td>504.555233</td>\n",
              "      <td>659.002907</td>\n",
              "    </tr>\n",
              "    <tr>\n",
              "      <th>std</th>\n",
              "      <td>789.689559</td>\n",
              "      <td>294.852020</td>\n",
              "      <td>656.761843</td>\n",
              "      <td>113.774481</td>\n",
              "      <td>297.622342</td>\n",
              "    </tr>\n",
              "    <tr>\n",
              "      <th>min</th>\n",
              "      <td>1097.000000</td>\n",
              "      <td>1159.000000</td>\n",
              "      <td>729.000000</td>\n",
              "      <td>272.000000</td>\n",
              "      <td>281.000000</td>\n",
              "    </tr>\n",
              "    <tr>\n",
              "      <th>25%</th>\n",
              "      <td>1889.750000</td>\n",
              "      <td>1430.500000</td>\n",
              "      <td>1276.750000</td>\n",
              "      <td>413.750000</td>\n",
              "      <td>430.750000</td>\n",
              "    </tr>\n",
              "    <tr>\n",
              "      <th>50%</th>\n",
              "      <td>2322.000000</td>\n",
              "      <td>1637.500000</td>\n",
              "      <td>1755.000000</td>\n",
              "      <td>507.000000</td>\n",
              "      <td>592.000000</td>\n",
              "    </tr>\n",
              "    <tr>\n",
              "      <th>75%</th>\n",
              "      <td>2778.000000</td>\n",
              "      <td>1833.250000</td>\n",
              "      <td>2202.000000</td>\n",
              "      <td>577.250000</td>\n",
              "      <td>784.000000</td>\n",
              "    </tr>\n",
              "    <tr>\n",
              "      <th>max</th>\n",
              "      <td>5358.000000</td>\n",
              "      <td>2630.000000</td>\n",
              "      <td>3695.000000</td>\n",
              "      <td>831.000000</td>\n",
              "      <td>1628.000000</td>\n",
              "    </tr>\n",
              "  </tbody>\n",
              "</table>\n",
              "</div>"
            ],
            "text/plain": [
              "       violent_car_theft  ...  publ_transport_theft\n",
              "count         344.000000  ...            344.000000\n",
              "mean         2448.697674  ...            659.002907\n",
              "std           789.689559  ...            297.622342\n",
              "min          1097.000000  ...            281.000000\n",
              "25%          1889.750000  ...            430.750000\n",
              "50%          2322.000000  ...            592.000000\n",
              "75%          2778.000000  ...            784.000000\n",
              "max          5358.000000  ...           1628.000000\n",
              "\n",
              "[8 rows x 5 columns]"
            ]
          },
          "metadata": {
            "tags": []
          },
          "execution_count": 41
        }
      ]
    },
    {
      "cell_type": "markdown",
      "metadata": {
        "id": "tM1TtDA34MG_",
        "colab_type": "text"
      },
      "source": [
        "### Property crimes - Vehicle theft\n",
        "\n",
        "Focusing on the vehicle theft category, let's get the mean values for `violent_car_theft`, `nonviolent_car_theft`, and `vehicle_recovery`."
      ]
    },
    {
      "cell_type": "code",
      "metadata": {
        "id": "K-5FGrjftQAx",
        "colab_type": "code",
        "colab": {
          "base_uri": "https://localhost:8080/",
          "height": 34
        },
        "outputId": "120a3219-5877-4762-cdbf-dce5469fb637"
      },
      "source": [
        "# mean value for violent vehicle theft\n",
        "mean_violent_car_theft = df_crime['violent_car_theft'].mean()\n",
        "print(round(mean_violent_car_theft, 2))"
      ],
      "execution_count": 42,
      "outputs": [
        {
          "output_type": "stream",
          "text": [
            "2448.7\n"
          ],
          "name": "stdout"
        }
      ]
    },
    {
      "cell_type": "code",
      "metadata": {
        "id": "RJEjooyovrqJ",
        "colab_type": "code",
        "colab": {
          "base_uri": "https://localhost:8080/",
          "height": 34
        },
        "outputId": "d4b980dc-68c0-46a5-ec64-bbfaae461e9d"
      },
      "source": [
        "# mean value for non-violent vehicle theft\n",
        "mean_nonviolent_car_theft = df_crime['nonviolent_car_theft'].mean()\n",
        "print(round(mean_nonviolent_car_theft, 2))"
      ],
      "execution_count": 43,
      "outputs": [
        {
          "output_type": "stream",
          "text": [
            "1674.67\n"
          ],
          "name": "stdout"
        }
      ]
    },
    {
      "cell_type": "code",
      "metadata": {
        "id": "TlUzbGWRwEbh",
        "colab_type": "code",
        "colab": {
          "base_uri": "https://localhost:8080/",
          "height": 34
        },
        "outputId": "011bf65a-5ef1-4620-a943-435c170a38bc"
      },
      "source": [
        "# mean value for vehicle recoveries\n",
        "mean_vehicle_recovery = df_crime['vehicle_recovery'].mean()\n",
        "print(round(mean_vehicle_recovery, 2))"
      ],
      "execution_count": 44,
      "outputs": [
        {
          "output_type": "stream",
          "text": [
            "1772.24\n"
          ],
          "name": "stdout"
        }
      ]
    },
    {
      "cell_type": "markdown",
      "metadata": {
        "id": "V3Ba67fs6Dev",
        "colab_type": "text"
      },
      "source": [
        "Now, let's determine the percentage of stolen vehicles that were later recovered:\n",
        "\n",
        "  * $\\frac{\\text{vehicles recovered}}{\\text{violent vehicle theft} + \\text{non-violent vehicle theft}}$"
      ]
    },
    {
      "cell_type": "code",
      "metadata": {
        "id": "RCKSQ8WJ5f7Z",
        "colab_type": "code",
        "colab": {
          "base_uri": "https://localhost:8080/",
          "height": 68
        },
        "outputId": "3edfa0c1-6548-4c39-e109-397e402c3c14"
      },
      "source": [
        "# mean value for vehicle recoveries\n",
        "mean_vehicle_recovery\n",
        "\n",
        "# mean value for all vehicle thefts\n",
        "mean_total_thefts = mean_violent_car_theft + mean_nonviolent_car_theft\n",
        "print('Mean of monthly stolen vehicles: {:.2f}'.format(mean_total_thefts))\n",
        "print('Mean of monthly recovered vehicles: {:.2f}'.format(mean_vehicle_recovery))\n",
        "\n",
        "# percentage of recovered vehicles\n",
        "recovery_rate = mean_vehicle_recovery / mean_total_thefts\n",
        "print(\"Rate of recovered vehicles: {:.2%}\".format(recovery_rate))\n"
      ],
      "execution_count": 45,
      "outputs": [
        {
          "output_type": "stream",
          "text": [
            "Mean of monthly stolen vehicles: 4123.37\n",
            "Mean of monthly recovered vehicles: 1772.24\n",
            "Rate of recovered vehicles: 42.98%\n"
          ],
          "name": "stdout"
        }
      ]
    },
    {
      "cell_type": "markdown",
      "metadata": {
        "id": "QPDRHFxl83i1",
        "colab_type": "text"
      },
      "source": [
        "Notice that less than half the number of stolen vehicles are recovered.\n",
        "\n",
        "Let's display a comparison between violent car theft and non-violent car theft:"
      ]
    },
    {
      "cell_type": "code",
      "metadata": {
        "id": "aGVYqHEU-CYY",
        "colab_type": "code",
        "colab": {
          "base_uri": "https://localhost:8080/",
          "height": 759
        },
        "outputId": "b6c511c9-0430-4f85-ea79-356d5c6d7326"
      },
      "source": [
        "df_crime.plot(x='date', y='nonviolent_car_theft', figsize=(10, 6));\n",
        "df_crime.plot(x='date', y='violent_car_theft', figsize=(10, 6));"
      ],
      "execution_count": 57,
      "outputs": [
        {
          "output_type": "display_data",
          "data": {
            "image/png": "[encoded data removed]",
            "text/plain": [
              "<Figure size 720x432 with 1 Axes>"
            ]
          },
          "metadata": {
            "tags": [],
            "needs_background": "light"
          }
        },
        {
          "output_type": "display_data",
          "data": {
            "image/png": "[encoded data removed]",
            "text/plain": [
              "<Figure size 720x432 with 1 Axes>"
            ]
          },
          "metadata": {
            "tags": [],
            "needs_background": "light"
          }
        }
      ]
    },
    {
      "cell_type": "markdown",
      "metadata": {
        "id": "LJqMCzqfwf0r",
        "colab_type": "text"
      },
      "source": [
        "Unfortunately, according to the charts above, vehicle thefts became more violent over the years.\n",
        "\n",
        "In 1991 there were over 1,000 monthly violent vehicle thefts, while the non-violent occurrences were at about 2,000 per month. Later, after some ups and downs, violent reports surged, reaching an apex of over 5,000 monthly occurrences in 2018, dropping to about 3,000 in 2019. The non-violent occurrences presented a downward trend over the years, hitting a low point of about 1,200 in 2018."
      ]
    },
    {
      "cell_type": "markdown",
      "metadata": {
        "id": "WotsxRBCEfgt",
        "colab_type": "text"
      },
      "source": [
        "### Personal Crimes - Homicide\n",
        "\n",
        "Now let's focus on personal crimes, more specifically, homicides.\n",
        "In the following lines we are displaying the minimum and the maximum number of murders per month:"
      ]
    },
    {
      "cell_type": "code",
      "metadata": {
        "id": "0j23dhcOBW5q",
        "colab_type": "code",
        "colab": {
          "base_uri": "https://localhost:8080/",
          "height": 68
        },
        "outputId": "a8c19d25-7a3f-4573-a353-f7f8f7853201"
      },
      "source": [
        "# min and max value for murder\n",
        "print('The lowest number of murders was: {}'.format(df_crime['murder'].min()))\n",
        "print('The highest number of murders was: {}\\n'.format(df_crime['murder'].max()))"
      ],
      "execution_count": 47,
      "outputs": [
        {
          "output_type": "stream",
          "text": [
            "The lowest number of murders was: 272\n",
            "The highest number of murders was: 831\n",
            "\n"
          ],
          "name": "stdout"
        }
      ]
    },
    {
      "cell_type": "markdown",
      "metadata": {
        "id": "Zxlo5EJCVbvy",
        "colab_type": "text"
      },
      "source": [
        "Let's verify the month with the highest number of murders:"
      ]
    },
    {
      "cell_type": "code",
      "metadata": {
        "id": "uIy3MSszVi0W",
        "colab_type": "code",
        "colab": {
          "base_uri": "https://localhost:8080/",
          "height": 80
        },
        "outputId": "fd7938b6-ded3-4f12-dd4b-42bb61f9bd84"
      },
      "source": [
        "df_crime.loc[df_crime['murder'] == 831]"
      ],
      "execution_count": 59,
      "outputs": [
        {
          "output_type": "execute_result",
          "data": {
            "text/html": [
              "<div>\n",
              "<style scoped>\n",
              "    .dataframe tbody tr th:only-of-type {\n",
              "        vertical-align: middle;\n",
              "    }\n",
              "\n",
              "    .dataframe tbody tr th {\n",
              "        vertical-align: top;\n",
              "    }\n",
              "\n",
              "    .dataframe thead th {\n",
              "        text-align: right;\n",
              "    }\n",
              "</style>\n",
              "<table border=\"1\" class=\"dataframe\">\n",
              "  <thead>\n",
              "    <tr style=\"text-align: right;\">\n",
              "      <th></th>\n",
              "      <th>date</th>\n",
              "      <th>violent_car_theft</th>\n",
              "      <th>nonviolent_car_theft</th>\n",
              "      <th>vehicle_recovery</th>\n",
              "      <th>murder</th>\n",
              "      <th>publ_transport_theft</th>\n",
              "    </tr>\n",
              "  </thead>\n",
              "  <tbody>\n",
              "    <tr>\n",
              "      <th>48</th>\n",
              "      <td>1995-01</td>\n",
              "      <td>2060</td>\n",
              "      <td>1924</td>\n",
              "      <td>1435</td>\n",
              "      <td>831</td>\n",
              "      <td>377</td>\n",
              "    </tr>\n",
              "  </tbody>\n",
              "</table>\n",
              "</div>"
            ],
            "text/plain": [
              "       date  violent_car_theft  ...  murder  publ_transport_theft\n",
              "48  1995-01               2060  ...     831                   377\n",
              "\n",
              "[1 rows x 6 columns]"
            ]
          },
          "metadata": {
            "tags": []
          },
          "execution_count": 59
        }
      ]
    },
    {
      "cell_type": "markdown",
      "metadata": {
        "id": "0lnfyCX5W1LF",
        "colab_type": "text"
      },
      "source": [
        "January of 1995 was the most violent month in our dataset, considering the `murder` variable, with 831 homicides.\n",
        "\n",
        "To put this number into perspective, it represents more than double that of [Spain's homicide count](https://dataunodc.un.org/) for the whole year of 1995. Bear in mind that in 1995 Spain had about [40 million](https://data.worldbank.org/) inhabitants while the state of Rio de Janeiro had [13.5 million](https://www.ibge.gov.br/en/statistics/social/population/20746-1996-population-count.html?edicao=17261&t=resultados)."
      ]
    },
    {
      "cell_type": "markdown",
      "metadata": {
        "id": "7WK0NBQZASKC",
        "colab_type": "text"
      },
      "source": [
        "### Plotting some graphs\n",
        "\n",
        "Charts are great when it comes to displaying information in an easy way for our brain to process the content.\n",
        "\n",
        "Histograms are powerful tools that help us understand the value distribution in our variables. Let's see the histogram of `murder`:\n"
      ]
    },
    {
      "cell_type": "code",
      "metadata": {
        "id": "_rBnNEBOJIae",
        "colab_type": "code",
        "colab": {
          "base_uri": "https://localhost:8080/",
          "height": 265
        },
        "outputId": "ac759bde-23a3-4952-fee2-fdc6ae1245ea"
      },
      "source": [
        "# murder histogram\n",
        "df_crime.murder.hist();"
      ],
      "execution_count": 60,
      "outputs": [
        {
          "output_type": "display_data",
          "data": {
            "image/png": "[encoded data removed]",
            "text/plain": [
              "<Figure size 432x288 with 1 Axes>"
            ]
          },
          "metadata": {
            "tags": [],
            "needs_background": "light"
          }
        }
      ]
    },
    {
      "cell_type": "markdown",
      "metadata": {
        "id": "kRaqJSmvfLf7",
        "colab_type": "text"
      },
      "source": [
        "From the chart above we can get a few insights:\n",
        "* There were about 70 months with a count of 500-550 homicides during the period.\n",
        "* In less than 10 months the number of homicides was around 800.\n",
        "* The histogram is slightly skewed to the right, although the mean and the median have similar values, as seen above when we used the `describe` method."
      ]
    },
    {
      "cell_type": "markdown",
      "metadata": {
        "id": "gjjr7g8xhHmA",
        "colab_type": "text"
      },
      "source": [
        "Now let's plot a line graph showing the homicide numbers over the years:"
      ]
    },
    {
      "cell_type": "code",
      "metadata": {
        "id": "oZLLGMo5KrRB",
        "colab_type": "code",
        "colab": {
          "base_uri": "https://localhost:8080/",
          "height": 388
        },
        "outputId": "5ca63d1b-52b7-49a0-a57c-753bc56a1a50"
      },
      "source": [
        "df_crime.plot(x='date', y='murder', figsize=(10, 6));"
      ],
      "execution_count": 61,
      "outputs": [
        {
          "output_type": "display_data",
          "data": {
            "image/png": "[encoded data removed]",
            "text/plain": [
              "<Figure size 720x432 with 1 Axes>"
            ]
          },
          "metadata": {
            "tags": [],
            "needs_background": "light"
          }
        }
      ]
    },
    {
      "cell_type": "markdown",
      "metadata": {
        "id": "27et2jQKhqkM",
        "colab_type": "text"
      },
      "source": [
        "The line chart above is useful to extract some pieces of information as well:\n",
        "* Despite showing erratic behavior, the negative trend of the chart is clear.\n",
        "* We can notice the peak of over 800 homicides in 1995, as well as the lowest point of about 250 occurrences in 2015."
      ]
    },
    {
      "cell_type": "markdown",
      "metadata": {
        "id": "F3I1vgQQebRs",
        "colab_type": "text"
      },
      "source": [
        "Finally, let's see how violence in the public transport system behaved from 1991 to 2019:"
      ]
    },
    {
      "cell_type": "code",
      "metadata": {
        "id": "nntEb3ByND6s",
        "colab_type": "code",
        "colab": {
          "base_uri": "https://localhost:8080/",
          "height": 388
        },
        "outputId": "5fb4a285-d415-48fc-f2f9-42cc5fcad4cd"
      },
      "source": [
        "df_crime.plot(x='date', y='publ_transport_theft', figsize=(10, 6));"
      ],
      "execution_count": 62,
      "outputs": [
        {
          "output_type": "display_data",
          "data": {
            "image/png": "[encoded data removed]",
            "text/plain": [
              "<Figure size 720x432 with 1 Axes>"
            ]
          },
          "metadata": {
            "tags": [],
            "needs_background": "light"
          }
        }
      ]
    },
    {
      "cell_type": "markdown",
      "metadata": {
        "id": "rP_XztR_joKI",
        "colab_type": "text"
      },
      "source": [
        "A few observations over the chart above:\n",
        "* The number of occurrences in public transport grew exponentially in the period, reaching 1,600 between 2018 and 2019, about 4 times higher than the 400 in 1991.\n",
        "* The episodes of violence had some ups and downs until 2013 when it started a sharp increase reaching the highest numbers for the whole period."
      ]
    },
    {
      "cell_type": "markdown",
      "metadata": {
        "id": "LCsiXvM3BcsO",
        "colab_type": "text"
      },
      "source": [
        "## Conclusion\n",
        "\n",
        "We have made a brief analysis of some violent features of Rio de Janeiro. It is well known for those familiar with the city and state of Rio de Janeiro that violence is a tragic part of its citizen's lives.\n",
        "Further analyses can be made, utilizing more advanced tools, to identify deeper aspects of the violence in Rio and other cities in the world.\n",
        "\n",
        "As for the facts extracted from our dataset, we could notice that vehicle theft has become more violent over the past few decades, as well as thefts occurred inside the public transport system. The later saw an increase of about 4 times in 29 years. This is unpleasant both for citizens and tourists.\n",
        "\n",
        "However, we found some good news related to the homicide rate. The number of murders showed a downward trend over the past 3 decades. In 2019 the number of homicides was about half that of 29 years earlier."
      ]
    },
    {
      "cell_type": "code",
      "metadata": {
        "id": "qu2kWumOqf8U",
        "colab_type": "code",
        "colab": {}
      },
      "source": [
        ""
      ],
      "execution_count": null,
      "outputs": []
    }
  ]
}